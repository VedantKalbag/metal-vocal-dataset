{
 "cells": [
  {
   "cell_type": "code",
   "execution_count": 3,
   "metadata": {},
   "outputs": [],
   "source": [
    "import os\n",
    "import pandas as pd\n",
    "import librosa\n",
    "import soundfile as sf\n",
    "import numpy as np\n",
    "import math\n",
    "import scipy.io.wavfile, scipy.signal\n",
    "from scipy.spatial import distance\n",
    "#from sklearn.discriminant_analysis import LinearDiscriminantAnalysis\n",
    "\n",
    "#from sklearn.naive_bayes import GaussianNB\n",
    "#from sklearn.tree import DecisionTreeClassifier\n",
    "from sklearn.neighbors import KNeighborsClassifier\n",
    "from sklearn.svm import SVC\n",
    "from sklearn.ensemble import RandomForestClassifier\n",
    "from sklearn.metrics import classification_report\n",
    "from sklearn.metrics import confusion_matrix\n",
    "from sklearn.metrics import accuracy_score\n",
    "from sklearn.preprocessing import StandardScaler\n",
    "\n",
    "lut=pd.read_csv('../dataset/annotation.csv')"
   ]
  },
  {
   "cell_type": "markdown",
   "metadata": {},
   "source": [
    "## Extract vocal only data using spleeter"
   ]
  },
  {
   "cell_type": "code",
   "execution_count": 5,
   "metadata": {},
   "outputs": [
    {
     "name": "stdout",
     "output_type": "stream",
     "text": [
      "INFO:tensorflow:Apply unet for vocals_spectrogram\n",
      "WARNING:tensorflow:From /usr/local/lib/python3.9/site-packages/tensorflow/python/keras/layers/normalization.py:534: _colocate_with (from tensorflow.python.framework.ops) is deprecated and will be removed in a future version.\n",
      "Instructions for updating:\n",
      "Colocations handled automatically by placer.\n",
      "INFO:tensorflow:Apply unet for accompaniment_spectrogram\n",
      "INFO:spleeter:Downloading model archive https://github.com/deezer/spleeter/releases/download/v1.4.0/2stems.tar.gz\n",
      "INFO:spleeter:Validating archive checksum\n",
      "INFO:spleeter:Extracting downloaded 2stems archive\n",
      "INFO:spleeter:2stems model file(s) extracted\n",
      "INFO:tensorflow:Restoring parameters from pretrained_models/2stems/model\n"
     ]
    }
   ],
   "source": [
    "import os\n",
    "from spleeter.separator import Separator\n",
    "import soundfile as sf\n",
    "import librosa\n",
    "# Using embedded configuration.\n",
    "separator = Separator('spleeter:2stems')\n",
    "\n",
    "# # Using custom configuration file.\n",
    "# separator = Separator('/path/to/config.json')\n",
    "\n",
    "# Use audio loader explicitly for loading audio waveform :\n",
    "from spleeter.audio.adapter import AudioAdapter\n",
    "\n",
    "audio_loader = AudioAdapter.default()\n",
    "sample_rate = 44100\n",
    "i=0\n",
    "loc='../dataset/audio/'\n",
    "for file_name in os.listdir(loc):\n",
    "    if file_name.endswith(\".wav\"):\n",
    "        name=file_name[:-4]\n",
    "        waveform, _ = audio_loader.load(loc+file_name, sample_rate=sample_rate)\n",
    "        #waveform,_ = librosa.load(loc+file_name, sr=44100, mono=False)\n",
    "\n",
    "        # Perform the separation :\n",
    "        prediction = separator.separate(waveform)\n",
    "        sf.write('./resources/vocal_only_audio/'+name+'_vocal.wav', prediction['vocals'], 44100)\n",
    "        # if i == 0:\n",
    "        #     print(prediction['vocals'])\n",
    "        #     break"
   ]
  },
  {
   "cell_type": "markdown",
   "metadata": {},
   "source": [
    "## Divide audio into 1 second chunks\n",
    "Chunks are labelled based on comparing the midpoint of the block to the annotation values"
   ]
  },
  {
   "cell_type": "code",
   "execution_count": 6,
   "metadata": {},
   "outputs": [],
   "source": [
    "# BLOCK AUDIO\n",
    "def block_audio(x,blockSize,hopSize,fs):    \n",
    "    # allocate memory    \n",
    "    numBlocks = math.ceil(x.size / hopSize)    \n",
    "    xb = np.zeros([numBlocks, blockSize])    \n",
    "    # compute time stamps    \n",
    "    t = (np.arange(0, numBlocks) * hopSize) / fs   \n",
    "    t_mid = t + (0.5*blockSize/fs)\n",
    "    x = np.concatenate((x, np.zeros(blockSize)),axis=0)    \n",
    "    for n in range(0, numBlocks):        \n",
    "        i_start = n * hopSize        \n",
    "        i_stop = np.min([x.size - 1, i_start + blockSize - 1])        \n",
    "        xb[n][np.arange(0,blockSize)] = x[np.arange(i_start, i_stop + 1)]    \n",
    "    return (xb,t,t_mid)\n"
   ]
  },
  {
   "cell_type": "code",
   "execution_count": 9,
   "metadata": {},
   "outputs": [
    {
     "name": "stderr",
     "output_type": "stream",
     "text": [
      "/usr/local/lib/python3.9/site-packages/librosa/core/audio.py:162: UserWarning: PySoundFile failed. Trying audioread instead.\n",
      "  warnings.warn(\"PySoundFile failed. Trying audioread instead.\")\n",
      "/usr/local/lib/python3.9/site-packages/librosa/core/audio.py:162: UserWarning: PySoundFile failed. Trying audioread instead.\n",
      "  warnings.warn(\"PySoundFile failed. Trying audioread instead.\")\n",
      "/usr/local/lib/python3.9/site-packages/librosa/core/audio.py:162: UserWarning: PySoundFile failed. Trying audioread instead.\n",
      "  warnings.warn(\"PySoundFile failed. Trying audioread instead.\")\n",
      "/usr/local/lib/python3.9/site-packages/librosa/core/audio.py:162: UserWarning: PySoundFile failed. Trying audioread instead.\n",
      "  warnings.warn(\"PySoundFile failed. Trying audioread instead.\")\n",
      "/usr/local/lib/python3.9/site-packages/librosa/core/audio.py:162: UserWarning: PySoundFile failed. Trying audioread instead.\n",
      "  warnings.warn(\"PySoundFile failed. Trying audioread instead.\")\n"
     ]
    },
    {
     "name": "stdout",
     "output_type": "stream",
     "text": [
      "[Errno 2] No such file or directory: './resources/vocal_only_audio/4600fGWcn9o_vocal.wav'\n",
      "[Errno 2] No such file or directory: './resources/vocal_only_audio/GLu-E42-RmA_vocal.wav'\n",
      "[Errno 2] No such file or directory: './resources/vocal_only_audio/ebSxxr726_8_vocal.wav'\n",
      "[Errno 2] No such file or directory: './resources/vocal_only_audio/iVvXB-Vwnco_vocal.wav'\n",
      "[Errno 2] No such file or directory: './resources/vocal_only_audio/F3A_3c882us_vocal.wav'\n"
     ]
    },
    {
     "name": "stderr",
     "output_type": "stream",
     "text": [
      "/usr/local/lib/python3.9/site-packages/librosa/core/audio.py:162: UserWarning: PySoundFile failed. Trying audioread instead.\n",
      "  warnings.warn(\"PySoundFile failed. Trying audioread instead.\")\n",
      "/usr/local/lib/python3.9/site-packages/librosa/core/audio.py:162: UserWarning: PySoundFile failed. Trying audioread instead.\n",
      "  warnings.warn(\"PySoundFile failed. Trying audioread instead.\")\n",
      "/usr/local/lib/python3.9/site-packages/librosa/core/audio.py:162: UserWarning: PySoundFile failed. Trying audioread instead.\n",
      "  warnings.warn(\"PySoundFile failed. Trying audioread instead.\")\n",
      "/usr/local/lib/python3.9/site-packages/librosa/core/audio.py:162: UserWarning: PySoundFile failed. Trying audioread instead.\n",
      "  warnings.warn(\"PySoundFile failed. Trying audioread instead.\")\n",
      "/usr/local/lib/python3.9/site-packages/librosa/core/audio.py:162: UserWarning: PySoundFile failed. Trying audioread instead.\n",
      "  warnings.warn(\"PySoundFile failed. Trying audioread instead.\")\n"
     ]
    },
    {
     "name": "stdout",
     "output_type": "stream",
     "text": [
      "[Errno 2] No such file or directory: './resources/vocal_only_audio/1gpfzCxiQ-A_vocal.wav'\n",
      "[Errno 2] No such file or directory: './resources/vocal_only_audio/B3F10hXdmQY_vocal.wav'\n",
      "[Errno 2] No such file or directory: './resources/vocal_only_audio/09KScSe4hIc_vocal.wav'\n",
      "[Errno 2] No such file or directory: './resources/vocal_only_audio/Dhfy9TPga-c_vocal.wav'\n",
      "[Errno 2] No such file or directory: './resources/vocal_only_audio/BR2kSva4NT8_vocal.wav'\n"
     ]
    },
    {
     "name": "stderr",
     "output_type": "stream",
     "text": [
      "/usr/local/lib/python3.9/site-packages/librosa/core/audio.py:162: UserWarning: PySoundFile failed. Trying audioread instead.\n",
      "  warnings.warn(\"PySoundFile failed. Trying audioread instead.\")\n",
      "/usr/local/lib/python3.9/site-packages/librosa/core/audio.py:162: UserWarning: PySoundFile failed. Trying audioread instead.\n",
      "  warnings.warn(\"PySoundFile failed. Trying audioread instead.\")\n",
      "/usr/local/lib/python3.9/site-packages/librosa/core/audio.py:162: UserWarning: PySoundFile failed. Trying audioread instead.\n",
      "  warnings.warn(\"PySoundFile failed. Trying audioread instead.\")\n"
     ]
    },
    {
     "name": "stdout",
     "output_type": "stream",
     "text": [
      "[Errno 2] No such file or directory: './resources/vocal_only_audio/ainbICPRV8Y_vocal.wav'\n",
      "[Errno 2] No such file or directory: './resources/vocal_only_audio/get0cXOsSXg_vocal.wav'\n",
      "[Errno 2] No such file or directory: './resources/vocal_only_audio/gG3JZ5vGJsk_vocal.wav'\n",
      "Creating dataframe\n",
      "[Errno 2] No such file or directory: './resources/vocal_only_audio/j4xCb_OU_lM_vocal.wav'\n",
      "[Errno 2] No such file or directory: './resources/vocal_only_audio/1CdtbR9JHCA_vocal.wav'\n",
      "[Errno 2] No such file or directory: './resources/vocal_only_audio/JuRRnVqv2Vc_vocal.wav'\n",
      "[Errno 2] No such file or directory: './resources/vocal_only_audio/C_voh9WFbsM_vocal.wav'\n",
      "[Errno 2] No such file or directory: './resources/vocal_only_audio/FukeNR1ydOA_vocal.wav'\n"
     ]
    },
    {
     "name": "stderr",
     "output_type": "stream",
     "text": [
      "/usr/local/lib/python3.9/site-packages/librosa/core/audio.py:162: UserWarning: PySoundFile failed. Trying audioread instead.\n",
      "  warnings.warn(\"PySoundFile failed. Trying audioread instead.\")\n",
      "/usr/local/lib/python3.9/site-packages/librosa/core/audio.py:162: UserWarning: PySoundFile failed. Trying audioread instead.\n",
      "  warnings.warn(\"PySoundFile failed. Trying audioread instead.\")\n",
      "/usr/local/lib/python3.9/site-packages/librosa/core/audio.py:162: UserWarning: PySoundFile failed. Trying audioread instead.\n",
      "  warnings.warn(\"PySoundFile failed. Trying audioread instead.\")\n",
      "/usr/local/lib/python3.9/site-packages/librosa/core/audio.py:162: UserWarning: PySoundFile failed. Trying audioread instead.\n",
      "  warnings.warn(\"PySoundFile failed. Trying audioread instead.\")\n",
      "/usr/local/lib/python3.9/site-packages/librosa/core/audio.py:162: UserWarning: PySoundFile failed. Trying audioread instead.\n",
      "  warnings.warn(\"PySoundFile failed. Trying audioread instead.\")\n",
      "/usr/local/lib/python3.9/site-packages/librosa/core/audio.py:162: UserWarning: PySoundFile failed. Trying audioread instead.\n",
      "  warnings.warn(\"PySoundFile failed. Trying audioread instead.\")\n"
     ]
    },
    {
     "name": "stdout",
     "output_type": "stream",
     "text": [
      "[Errno 2] No such file or directory: './resources/vocal_only_audio/dCyxGNbBWAk_vocal.wav'\n",
      "[Errno 2] No such file or directory: './resources/vocal_only_audio/4ShzP_M7W-k_vocal.wav'\n",
      "[Errno 2] No such file or directory: './resources/vocal_only_audio/hUNAX1UYeAE_vocal.wav'\n",
      "[Errno 2] No such file or directory: './resources/vocal_only_audio/kQUTQTNChbE_vocal.wav'\n",
      "[Errno 2] No such file or directory: './resources/vocal_only_audio/47Plg93oJ1M_vocal.wav'\n"
     ]
    },
    {
     "name": "stderr",
     "output_type": "stream",
     "text": [
      "/usr/local/lib/python3.9/site-packages/librosa/core/audio.py:162: UserWarning: PySoundFile failed. Trying audioread instead.\n",
      "  warnings.warn(\"PySoundFile failed. Trying audioread instead.\")\n",
      "/usr/local/lib/python3.9/site-packages/librosa/core/audio.py:162: UserWarning: PySoundFile failed. Trying audioread instead.\n",
      "  warnings.warn(\"PySoundFile failed. Trying audioread instead.\")\n",
      "/usr/local/lib/python3.9/site-packages/librosa/core/audio.py:162: UserWarning: PySoundFile failed. Trying audioread instead.\n",
      "  warnings.warn(\"PySoundFile failed. Trying audioread instead.\")\n",
      "/usr/local/lib/python3.9/site-packages/librosa/core/audio.py:162: UserWarning: PySoundFile failed. Trying audioread instead.\n",
      "  warnings.warn(\"PySoundFile failed. Trying audioread instead.\")\n",
      "/usr/local/lib/python3.9/site-packages/librosa/core/audio.py:162: UserWarning: PySoundFile failed. Trying audioread instead.\n",
      "  warnings.warn(\"PySoundFile failed. Trying audioread instead.\")\n"
     ]
    },
    {
     "name": "stdout",
     "output_type": "stream",
     "text": [
      "[Errno 2] No such file or directory: './resources/vocal_only_audio/5SgN5lvWZwQ_vocal.wav'\n",
      "[Errno 2] No such file or directory: './resources/vocal_only_audio/IO-JbFtgeX4_vocal.wav'\n",
      "[Errno 2] No such file or directory: './resources/vocal_only_audio/Czx-OIyrQwQ_vocal.wav'\n",
      "[Errno 2] No such file or directory: './resources/vocal_only_audio/k27N-jRofrM_vocal.wav'\n",
      "[Errno 2] No such file or directory: './resources/vocal_only_audio/8256VJ4hkJU_vocal.wav'\n"
     ]
    },
    {
     "name": "stderr",
     "output_type": "stream",
     "text": [
      "/usr/local/lib/python3.9/site-packages/librosa/core/audio.py:162: UserWarning: PySoundFile failed. Trying audioread instead.\n",
      "  warnings.warn(\"PySoundFile failed. Trying audioread instead.\")\n",
      "/usr/local/lib/python3.9/site-packages/librosa/core/audio.py:162: UserWarning: PySoundFile failed. Trying audioread instead.\n",
      "  warnings.warn(\"PySoundFile failed. Trying audioread instead.\")\n",
      "/usr/local/lib/python3.9/site-packages/librosa/core/audio.py:162: UserWarning: PySoundFile failed. Trying audioread instead.\n",
      "  warnings.warn(\"PySoundFile failed. Trying audioread instead.\")\n",
      "/usr/local/lib/python3.9/site-packages/librosa/core/audio.py:162: UserWarning: PySoundFile failed. Trying audioread instead.\n",
      "  warnings.warn(\"PySoundFile failed. Trying audioread instead.\")\n",
      "/usr/local/lib/python3.9/site-packages/librosa/core/audio.py:162: UserWarning: PySoundFile failed. Trying audioread instead.\n",
      "  warnings.warn(\"PySoundFile failed. Trying audioread instead.\")\n"
     ]
    },
    {
     "name": "stdout",
     "output_type": "stream",
     "text": [
      "[Errno 2] No such file or directory: './resources/vocal_only_audio/8gILuUdY2cU_vocal.wav'\n",
      "[Errno 2] No such file or directory: './resources/vocal_only_audio/5cEK1OLhUKQ_vocal.wav'\n",
      "[Errno 2] No such file or directory: './resources/vocal_only_audio/B7iIS91fMAc_vocal.wav'\n",
      "[Errno 2] No such file or directory: './resources/vocal_only_audio/c5uP9PlEDro_vocal.wav'\n",
      "[Errno 2] No such file or directory: './resources/vocal_only_audio/BNyYiTdqzAY_vocal.wav'\n",
      "[Errno 2] No such file or directory: './resources/vocal_only_audio/5aaOqUYG8Tw_vocal.wav'\n"
     ]
    },
    {
     "name": "stderr",
     "output_type": "stream",
     "text": [
      "/usr/local/lib/python3.9/site-packages/librosa/core/audio.py:162: UserWarning: PySoundFile failed. Trying audioread instead.\n",
      "  warnings.warn(\"PySoundFile failed. Trying audioread instead.\")\n",
      "/usr/local/lib/python3.9/site-packages/librosa/core/audio.py:162: UserWarning: PySoundFile failed. Trying audioread instead.\n",
      "  warnings.warn(\"PySoundFile failed. Trying audioread instead.\")\n",
      "/usr/local/lib/python3.9/site-packages/librosa/core/audio.py:162: UserWarning: PySoundFile failed. Trying audioread instead.\n",
      "  warnings.warn(\"PySoundFile failed. Trying audioread instead.\")\n",
      "/usr/local/lib/python3.9/site-packages/librosa/core/audio.py:162: UserWarning: PySoundFile failed. Trying audioread instead.\n",
      "  warnings.warn(\"PySoundFile failed. Trying audioread instead.\")\n",
      "/usr/local/lib/python3.9/site-packages/librosa/core/audio.py:162: UserWarning: PySoundFile failed. Trying audioread instead.\n",
      "  warnings.warn(\"PySoundFile failed. Trying audioread instead.\")\n",
      "/usr/local/lib/python3.9/site-packages/librosa/core/audio.py:162: UserWarning: PySoundFile failed. Trying audioread instead.\n",
      "  warnings.warn(\"PySoundFile failed. Trying audioread instead.\")\n"
     ]
    },
    {
     "name": "stdout",
     "output_type": "stream",
     "text": [
      "[Errno 2] No such file or directory: './resources/vocal_only_audio/impRqn44OCA_vocal.wav'\n",
      "[Errno 2] No such file or directory: './resources/vocal_only_audio/ds9s-pzGD0M_vocal.wav'\n",
      "[Errno 2] No such file or directory: './resources/vocal_only_audio/GZqfH1LQEOQ_vocal.wav'\n",
      "[Errno 2] No such file or directory: './resources/vocal_only_audio/aNJXS9X0yY0_vocal.wav'\n",
      "[Errno 2] No such file or directory: './resources/vocal_only_audio/ErTgN2zoTkA_vocal.wav'\n",
      "[Errno 2] No such file or directory: './resources/vocal_only_audio/-2WqQY_xSSM_vocal.wav'\n"
     ]
    },
    {
     "name": "stderr",
     "output_type": "stream",
     "text": [
      "/usr/local/lib/python3.9/site-packages/librosa/core/audio.py:162: UserWarning: PySoundFile failed. Trying audioread instead.\n",
      "  warnings.warn(\"PySoundFile failed. Trying audioread instead.\")\n",
      "/usr/local/lib/python3.9/site-packages/librosa/core/audio.py:162: UserWarning: PySoundFile failed. Trying audioread instead.\n",
      "  warnings.warn(\"PySoundFile failed. Trying audioread instead.\")\n",
      "/usr/local/lib/python3.9/site-packages/librosa/core/audio.py:162: UserWarning: PySoundFile failed. Trying audioread instead.\n",
      "  warnings.warn(\"PySoundFile failed. Trying audioread instead.\")\n",
      "/usr/local/lib/python3.9/site-packages/librosa/core/audio.py:162: UserWarning: PySoundFile failed. Trying audioread instead.\n",
      "  warnings.warn(\"PySoundFile failed. Trying audioread instead.\")\n",
      "/usr/local/lib/python3.9/site-packages/librosa/core/audio.py:162: UserWarning: PySoundFile failed. Trying audioread instead.\n",
      "  warnings.warn(\"PySoundFile failed. Trying audioread instead.\")\n",
      "/usr/local/lib/python3.9/site-packages/librosa/core/audio.py:162: UserWarning: PySoundFile failed. Trying audioread instead.\n",
      "  warnings.warn(\"PySoundFile failed. Trying audioread instead.\")\n"
     ]
    },
    {
     "name": "stdout",
     "output_type": "stream",
     "text": [
      "[Errno 2] No such file or directory: './resources/vocal_only_audio/jqnC54vbUbU_vocal.wav'\n",
      "[Errno 2] No such file or directory: './resources/vocal_only_audio/_duhhVa-dk8_vocal.wav'\n",
      "[Errno 2] No such file or directory: './resources/vocal_only_audio/5abamRO41fE_vocal.wav'\n",
      "[Errno 2] No such file or directory: './resources/vocal_only_audio/Bh_5ofa__pY_vocal.wav'\n",
      "[Errno 2] No such file or directory: './resources/vocal_only_audio/edBYB1VCV0k_vocal.wav'\n",
      "[Errno 2] No such file or directory: './resources/vocal_only_audio/731QmPnjqe4_vocal.wav'\n"
     ]
    },
    {
     "name": "stderr",
     "output_type": "stream",
     "text": [
      "/usr/local/lib/python3.9/site-packages/librosa/core/audio.py:162: UserWarning: PySoundFile failed. Trying audioread instead.\n",
      "  warnings.warn(\"PySoundFile failed. Trying audioread instead.\")\n",
      "/usr/local/lib/python3.9/site-packages/librosa/core/audio.py:162: UserWarning: PySoundFile failed. Trying audioread instead.\n",
      "  warnings.warn(\"PySoundFile failed. Trying audioread instead.\")\n",
      "/usr/local/lib/python3.9/site-packages/librosa/core/audio.py:162: UserWarning: PySoundFile failed. Trying audioread instead.\n",
      "  warnings.warn(\"PySoundFile failed. Trying audioread instead.\")\n",
      "/usr/local/lib/python3.9/site-packages/librosa/core/audio.py:162: UserWarning: PySoundFile failed. Trying audioread instead.\n",
      "  warnings.warn(\"PySoundFile failed. Trying audioread instead.\")\n",
      "/usr/local/lib/python3.9/site-packages/librosa/core/audio.py:162: UserWarning: PySoundFile failed. Trying audioread instead.\n",
      "  warnings.warn(\"PySoundFile failed. Trying audioread instead.\")\n",
      "/usr/local/lib/python3.9/site-packages/librosa/core/audio.py:162: UserWarning: PySoundFile failed. Trying audioread instead.\n",
      "  warnings.warn(\"PySoundFile failed. Trying audioread instead.\")\n"
     ]
    },
    {
     "name": "stdout",
     "output_type": "stream",
     "text": [
      "[Errno 2] No such file or directory: './resources/vocal_only_audio/HKWqzjQAv14_vocal.wav'\n",
      "[Errno 2] No such file or directory: './resources/vocal_only_audio/-xYZM04JxnQ_vocal.wav'\n",
      "[Errno 2] No such file or directory: './resources/vocal_only_audio/FNdC_3LR2AI_vocal.wav'\n",
      "[Errno 2] No such file or directory: './resources/vocal_only_audio/74nTzbgDGWM_vocal.wav'\n",
      "[Errno 2] No such file or directory: './resources/vocal_only_audio/HUUBI7RJtr8_vocal.wav'\n"
     ]
    },
    {
     "name": "stderr",
     "output_type": "stream",
     "text": [
      "/usr/local/lib/python3.9/site-packages/librosa/core/audio.py:162: UserWarning: PySoundFile failed. Trying audioread instead.\n",
      "  warnings.warn(\"PySoundFile failed. Trying audioread instead.\")\n",
      "/usr/local/lib/python3.9/site-packages/librosa/core/audio.py:162: UserWarning: PySoundFile failed. Trying audioread instead.\n",
      "  warnings.warn(\"PySoundFile failed. Trying audioread instead.\")\n",
      "/usr/local/lib/python3.9/site-packages/librosa/core/audio.py:162: UserWarning: PySoundFile failed. Trying audioread instead.\n",
      "  warnings.warn(\"PySoundFile failed. Trying audioread instead.\")\n",
      "/usr/local/lib/python3.9/site-packages/librosa/core/audio.py:162: UserWarning: PySoundFile failed. Trying audioread instead.\n",
      "  warnings.warn(\"PySoundFile failed. Trying audioread instead.\")\n",
      "/usr/local/lib/python3.9/site-packages/librosa/core/audio.py:162: UserWarning: PySoundFile failed. Trying audioread instead.\n",
      "  warnings.warn(\"PySoundFile failed. Trying audioread instead.\")\n"
     ]
    },
    {
     "name": "stdout",
     "output_type": "stream",
     "text": [
      "[Errno 2] No such file or directory: './resources/vocal_only_audio/hxu3KXVy48w_vocal.wav'\n",
      "[Errno 2] No such file or directory: './resources/vocal_only_audio/hwxTEcHnC1o_vocal.wav'\n",
      "[Errno 2] No such file or directory: './resources/vocal_only_audio/hBj0-dIU8HI_vocal.wav'\n",
      "[Errno 2] No such file or directory: './resources/vocal_only_audio/HL9kaJZw8iw_vocal.wav'\n",
      "[Errno 2] No such file or directory: './resources/vocal_only_audio/0m5fIHHfJTw_vocal.wav'\n"
     ]
    },
    {
     "name": "stderr",
     "output_type": "stream",
     "text": [
      "/usr/local/lib/python3.9/site-packages/librosa/core/audio.py:162: UserWarning: PySoundFile failed. Trying audioread instead.\n",
      "  warnings.warn(\"PySoundFile failed. Trying audioread instead.\")\n",
      "/usr/local/lib/python3.9/site-packages/librosa/core/audio.py:162: UserWarning: PySoundFile failed. Trying audioread instead.\n",
      "  warnings.warn(\"PySoundFile failed. Trying audioread instead.\")\n",
      "/usr/local/lib/python3.9/site-packages/librosa/core/audio.py:162: UserWarning: PySoundFile failed. Trying audioread instead.\n",
      "  warnings.warn(\"PySoundFile failed. Trying audioread instead.\")\n",
      "/usr/local/lib/python3.9/site-packages/librosa/core/audio.py:162: UserWarning: PySoundFile failed. Trying audioread instead.\n",
      "  warnings.warn(\"PySoundFile failed. Trying audioread instead.\")\n"
     ]
    }
   ],
   "source": [
    "i=0\n",
    "for video_id in lut['video_id'].unique():\n",
    "    try:\n",
    "        fp='./resources/vocal_only_audio/'+video_id+'_vocal.wav'\n",
    "        #print(fp)\n",
    "        x,sr = librosa.load(fp,sr=44100,mono=True)\n",
    "        blockSize = int(sr * 1) # One second blocks\n",
    "        hopSize = int(sr * 0.5) # half second hops\n",
    "\n",
    "        xb,t,t_mid = block_audio(x,blockSize,hopSize,sr)\n",
    "        labels=[]\n",
    "        for ts in t_mid:\n",
    "            for idx,row in lut[lut['video_id'] == video_id].reset_index().iterrows():\n",
    "                annotated_start = row['timestamp_start']\n",
    "                annotated_end = row['timestamp_end']\n",
    "                if annotated_start <= ts <= annotated_end:\n",
    "                    labels.append(row['scream_type'])\n",
    "                    break\n",
    "            if ~(annotated_start <= ts <= annotated_end):\n",
    "                labels.append('no_vocals')\n",
    "        # Create new dataframs\n",
    "        if i == 0:\n",
    "            print(\"Creating dataframe\")\n",
    "            df=pd.DataFrame()\n",
    "\n",
    "            df['t'] = t\n",
    "            df['t_mid'] = t_mid\n",
    "            blocks=[]\n",
    "            for blk in xb:\n",
    "                blocks.append(blk)\n",
    "            df.insert(0,'video_id',video_id)\n",
    "            df.insert(3,'label',labels)\n",
    "            df['xb'] = blocks\n",
    "            i+=1\n",
    "        else:\n",
    "            tmp=pd.DataFrame()\n",
    "            tmp['t'] = t\n",
    "            tmp['t_mid'] = t_mid\n",
    "            blocks=[]\n",
    "            for blk in xb:\n",
    "                blocks.append(blk)\n",
    "            tmp['video_id'] = video_id\n",
    "            tmp['label'] = labels\n",
    "            tmp['xb'] = blocks\n",
    "            df=df.append(tmp)\n",
    "    except Exception as e:\n",
    "        print(e)\n",
    "out = df.to_numpy()\n",
    "np.save('./resources/working_data/vocal_only_data.npy', out)\n",
    "    #df.to_csv('./resources/working_data/'+video_id+'.csv',header=True, index=False,encoding='utf-8-sig',sep='\\t')\n"
   ]
  },
  {
   "cell_type": "markdown",
   "metadata": {},
   "source": [
    "## Extract VGGish features"
   ]
  },
  {
   "cell_type": "code",
   "execution_count": 10,
   "metadata": {},
   "outputs": [
    {
     "name": "stderr",
     "output_type": "stream",
     "text": [
      "Using cache found in /Users/vedant/.cache/torch/hub/harritaylor_torchvggish_master\n"
     ]
    }
   ],
   "source": [
    "import pandas as pd\n",
    "import torch\n",
    "import numpy as np\n",
    "import soundfile as sf\n",
    "import os\n",
    "\n",
    "model = torch.hub.load('harritaylor/torchvggish', 'vggish')\n",
    "model.eval()\n",
    "\n",
    "df=pd.DataFrame(np.load('./resources/working_data/vocal_only_data.npy',allow_pickle = True),columns=['video_id','start_time','mid_ts','label','audio'])\n",
    "df['vggish']=''\n",
    "for index,row in df.iterrows():\n",
    "    file_name = './resources/working_data/'+f'block_{index}.wav'\n",
    "    sf.write(file_name, row['audio'], 44100)\n",
    "    vgg = model.forward(file_name)\n",
    "    df['vggish'][index] = vgg.cpu().detach().numpy()\n",
    "    if os.path.exists(file_name):\n",
    "        os.remove(file_name)\n",
    "    else:\n",
    "        print(\"The file does not exist\")\n",
    "    \n",
    "    # if index == 1:\n",
    "    #     break\n",
    "\n",
    "out = df.to_numpy()\n",
    "np.save('./resources/working_data/vocal_only_data_with_vggish.npy', out)"
   ]
  },
  {
   "cell_type": "markdown",
   "metadata": {},
   "source": [
    "## Extract feature vector"
   ]
  },
  {
   "cell_type": "code",
   "execution_count": 12,
   "metadata": {},
   "outputs": [],
   "source": [
    "def block_audio(x,blockSize,hopSize,fs):    \n",
    "    # allocate memory    \n",
    "    numBlocks = math.ceil(x.size / hopSize)    \n",
    "    xb = np.zeros([numBlocks, blockSize])    \n",
    "    # compute time stamps    \n",
    "    t = (np.arange(0, numBlocks) * hopSize) / fs   \n",
    "    x = np.concatenate((x, np.zeros(blockSize)),axis=0)    \n",
    "    for n in range(0, numBlocks):        \n",
    "        i_start = n * hopSize        \n",
    "        i_stop = np.min([x.size - 1, i_start + blockSize - 1])        \n",
    "        xb[n][np.arange(0,blockSize)] = x[np.arange(i_start, i_stop + 1)]    \n",
    "    return (xb,t)\n",
    "\n",
    "def agg_mfccs(x):\n",
    "    mfccs = librosa.feature.mfcc(x,n_mfcc = 13)\n",
    "    mean = [np.mean(feature) for feature in mfccs]\n",
    "    std = [np.std(feature) for feature in mfccs]\n",
    "    mfcc_delta = librosa.feature.delta(mfccs)\n",
    "    delta_mean=[np.mean(feature) for feature in mfcc_delta]\n",
    "    delta_std=[np.std(feature) for feature in mfcc_delta]\n",
    "    return mean,std,delta_mean,delta_std\n",
    "\n",
    "def extract_features(x,fs=44100):\n",
    "    #MFCCs\n",
    "    mfcc_mean,mfcc_std,delta_mfcc_mean,delta_mfcc_std = agg_mfccs(x)\n",
    "    #ZCR\n",
    "    zcr=librosa.feature.zero_crossing_rate(x)\n",
    "    #Spectral Centroid\n",
    "    centroid = librosa.feature.spectral_centroid(x,44100)\n",
    "    #Spectral Contrast\n",
    "    contrast = librosa.feature.spectral_contrast(x,44100)\n",
    "    #Spectral Flatness\n",
    "    flatness = librosa.feature.spectral_flatness(x)\n",
    "    #Spectral Roll-off\n",
    "    rolloff = librosa.feature.spectral_rolloff(x,44100)\n",
    "    #RMS\n",
    "    rms = librosa.feature.rms(x)\n",
    "    \n",
    "    return mfcc_mean,mfcc_std,delta_mfcc_mean,delta_mfcc_std,zcr,centroid,contrast,flatness,rolloff,rms\n",
    "\n",
    "df=pd.DataFrame(np.load('./resources/working_data/vocal_only_data_with_vggish.npy',allow_pickle = True),columns=['video_id','start_time','mid_ts','label','audio','vggish'])\n",
    "\n",
    "df['zcr'] = ''\n",
    "df['average_zcr'] = ''\n",
    "df['zcr_stddev'] = ''\n",
    "\n",
    "#df['mfccs'] = ''\n",
    "df['mfcc_mean'] = ''\n",
    "df['mfcc_std'] = ''\n",
    "\n",
    "df['delta_mfcc_mean'] = ''\n",
    "df['delta_mfcc_std'] = ''\n",
    "\n",
    "df['centroid'] = ''\n",
    "df['centroid_mean']=''\n",
    "df['centroid_std'] = ''\n",
    "\n",
    "df['contrast'] = ''\n",
    "df['contrast_mean']=''\n",
    "df['contrast_std'] = ''\n",
    "\n",
    "df['flatness'] = ''\n",
    "df['flatness_mean']=''\n",
    "df['flatness_std'] = ''\n",
    "\n",
    "df['rolloff'] = ''\n",
    "df['rolloff_mean']=''\n",
    "df['rolloff_std'] = ''\n",
    "\n",
    "df['rms'] = ''\n",
    "df['rms_mean']=''\n",
    "df['rms_std'] = ''\n",
    "\n",
    "#Row wise (block wise) aggregation of features by mean and std dev\n",
    "for i in range(len(df)):\n",
    "    #audio = butter_bandpass_filter(df['audio'][i],200,4500,44100)\n",
    "    #audio = df['audio'][i]\n",
    "    mean, std, delta_mean, delta_std, zcr, centroid, contrast, flatness, rolloff,rms = extract_features(df['audio'][i],44100)\n",
    "    # Calculate ZCR - mean and std\n",
    "    df['zcr'][i] = zcr\n",
    "    df['average_zcr'][i] = np.mean(zcr)\n",
    "    df['zcr_stddev'][i] = np.std(zcr)\n",
    "    # Extract 13 MFCCs - get mean and std deviation for each (26 features) + Delta MFCCs (26 features) = total 52 Features\n",
    "    df['mfcc_mean'][i] = mean\n",
    "    df['mfcc_std'][i] = std\n",
    "    df['delta_mfcc_mean'][i] = delta_mean\n",
    "    df['delta_mfcc_std'][i] = delta_std\n",
    "\n",
    "    #Calculate Spectral Centroid Mean and Std\n",
    "    df['centroid'][i] = centroid\n",
    "    df['centroid_mean'][i]=np.mean(centroid)\n",
    "    df['centroid_std'][i] = np.std(centroid)\n",
    "\n",
    "    #Calculate Spectral Contrast - Mean and Std\n",
    "    df['contrast'][i] = contrast\n",
    "    df['contrast_mean'][i]=np.mean(contrast)\n",
    "    df['contrast_std'][i] = np.std(contrast)\n",
    "\n",
    "    #Calculate spectral flatness - mean and std\n",
    "    df['flatness'][i] = flatness\n",
    "    df['flatness_mean'][i] = np.mean(flatness)\n",
    "    df['flatness_std'][i] = np.std(flatness)\n",
    "\n",
    "    #Calculate spectral flatness - mean and std\n",
    "    df['rolloff'][i] = rolloff\n",
    "    df['rolloff_mean'][i] = np.mean(rolloff)\n",
    "    df['rolloff_std'][i] = np.std(rolloff)\n",
    "\n",
    "    #Calculate rms - mean and std\n",
    "    df['rms'][i] = rms\n",
    "    df['rms_mean'][i] = np.mean(rms)\n",
    "    df['rms_std'][i] = np.std(rms)\n",
    "\n",
    "\n",
    "df[['mfcc1_mean','mfcc2_mean','mfcc3_mean','mfcc4_mean','mfcc5_mean','mfcc6_mean','mfcc7_mean','mfcc8_mean','mfcc9_mean','mfcc10_mean','mfcc11_mean','mfcc12_mean','mfcc13_mean']]=pd.DataFrame(df.mfcc_mean.tolist(), index= df.index)\n",
    "df[['mfcc1_std','mfcc2_std','mfcc3_std','mfcc4_std','mfcc5_std','mfcc6_std','mfcc7_std','mfcc8_std','mfcc9_std','mfcc10_std','mfcc11_std','mfcc12_std','mfcc13_std']]=pd.DataFrame(df.mfcc_std.tolist(), index= df.index)\n",
    "\n",
    "df[['delta_mfcc1_mean','delta_mfcc2_mean','delta_mfcc3_mean','delta_mfcc4_mean','delta_mfcc5_mean','delta_mfcc6_mean','delta_mfcc7_mean','delta_mfcc8_mean','delta_mfcc9_mean','delta_mfcc10_mean','delta_mfcc11_mean','delta_mfcc12_mean','delta_mfcc13_mean']]=pd.DataFrame(df.delta_mfcc_mean.tolist(), index= df.index)\n",
    "df[['delta_mfcc1_std','delta_mfcc2_std','delta_mfcc3_std','delta_mfcc4_std','delta_mfcc5_std','delta_mfcc6_std','delta_mfcc7_std','delta_mfcc8_std','delta_mfcc9_std','delta_mfcc10_std','delta_mfcc11_std','delta_mfcc12_std','delta_mfcc13_std']]=pd.DataFrame(df.delta_mfcc_std.tolist(), index= df.index)\n",
    "\n",
    "selected_cols=['video_id', 'start_time', 'mid_ts', 'label', 'average_zcr',\n",
    "       'zcr_stddev', 'mfcc1_mean', 'mfcc2_mean', 'mfcc3_mean',\n",
    "       'mfcc4_mean', 'mfcc5_mean', 'mfcc6_mean', 'mfcc7_mean', 'mfcc8_mean',\n",
    "       'mfcc9_mean', 'mfcc10_mean', 'mfcc11_mean', 'mfcc12_mean',\n",
    "       'mfcc13_mean', 'mfcc1_std', 'mfcc2_std', 'mfcc3_std', 'mfcc4_std',\n",
    "       'mfcc5_std', 'mfcc6_std', 'mfcc7_std', 'mfcc8_std', 'mfcc9_std',\n",
    "       'mfcc10_std', 'mfcc11_std', 'mfcc12_std', 'mfcc13_std',\n",
    "       'delta_mfcc1_mean', 'delta_mfcc2_mean', 'delta_mfcc3_mean',\n",
    "       'delta_mfcc4_mean', 'delta_mfcc5_mean', 'delta_mfcc6_mean',\n",
    "       'delta_mfcc7_mean', 'delta_mfcc8_mean', 'delta_mfcc9_mean',\n",
    "       'delta_mfcc10_mean', 'delta_mfcc11_mean', 'delta_mfcc12_mean',\n",
    "       'delta_mfcc13_mean', 'delta_mfcc1_std', 'delta_mfcc2_std',\n",
    "       'delta_mfcc3_std', 'delta_mfcc4_std', 'delta_mfcc5_std',\n",
    "       'delta_mfcc6_std', 'delta_mfcc7_std', 'delta_mfcc8_std',\n",
    "       'delta_mfcc9_std', 'delta_mfcc10_std', 'delta_mfcc11_std',\n",
    "       'delta_mfcc12_std', 'delta_mfcc13_std',\n",
    "       'centroid_mean','centroid_std',\n",
    "       'contrast_mean','contrast_std',\n",
    "       'flatness_mean','flatness_std',\n",
    "       'rolloff_mean','rolloff_std','rms_mean','rms_std','vggish']\n",
    "np.save('./resources/working_data/vocal_only_features.npy', df[selected_cols].to_numpy())"
   ]
  }
 ],
 "metadata": {
  "interpreter": {
   "hash": "aee8b7b246df8f9039afb4144a1f6fd8d2ca17a180786b69acc140d282b71a49"
  },
  "kernelspec": {
   "display_name": "Python 3.9.10 64-bit",
   "language": "python",
   "name": "python3"
  },
  "language_info": {
   "codemirror_mode": {
    "name": "ipython",
    "version": 3
   },
   "file_extension": ".py",
   "mimetype": "text/x-python",
   "name": "python",
   "nbconvert_exporter": "python",
   "pygments_lexer": "ipython3",
   "version": "3.9.10"
  },
  "orig_nbformat": 4
 },
 "nbformat": 4,
 "nbformat_minor": 2
}
