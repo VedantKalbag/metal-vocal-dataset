{
 "cells": [
  {
   "cell_type": "code",
   "execution_count": 1,
   "metadata": {},
   "outputs": [],
   "source": [
    "import os\n",
    "import pandas as pd\n",
    "import numpy as np\n",
    "from sklearn.neighbors import KNeighborsClassifier\n",
    "from sklearn.metrics import classification_report\n",
    "from sklearn.metrics import confusion_matrix,accuracy_score, ConfusionMatrixDisplay, balanced_accuracy_score,f1_score\n",
    "\n",
    "from sklearn.svm import SVC\n",
    "from sklearn.ensemble import RandomForestClassifier\n",
    "from sklearn.preprocessing import StandardScaler\n",
    "\n",
    "from sys import platform\n",
    "if platform == \"linux\" or platform == \"linux2\":\n",
    "    # linux\n",
    "    path='/home/vedant/projects/'\n",
    "elif platform == \"darwin\":\n",
    "    # OS X\n",
    "    path='/Users/vedant/Desktop/Programming/'\n",
    "\n",
    "# labels={0:'clean',1:'high fry',2:'layered',3:'lowfry',4:'midfry',5:'no_vocals'}\n",
    "labels={0:'clean',1:'scream',2:'no vocal'}"
   ]
  },
  {
   "cell_type": "code",
   "execution_count": 2,
   "metadata": {},
   "outputs": [],
   "source": [
    "n_class = '3class'\n",
    "\n",
    "X_train=np.load(f'{path}ScreamDetection/FINAL/working_data_final/{n_class}_x_train-vggish.npy',allow_pickle=True)\n",
    "X_test=np.load(f'{path}ScreamDetection/FINAL/working_data_final/{n_class}_x_test-vggish.npy',allow_pickle=True)\n",
    "X_valid=np.load(f'{path}ScreamDetection/FINAL/working_data_final/{n_class}_x_valid-vggish.npy',allow_pickle=True)\n",
    "\n",
    "y_train_hot=np.load(f'{path}ScreamDetection/FINAL/working_data_final/{n_class}_y_train-vggish.npy',allow_pickle=True)\n",
    "y_test_hot=np.load(f'{path}ScreamDetection/FINAL/working_data_final/{n_class}_y_test-vggish.npy',allow_pickle=True)\n",
    "y_valid_hot=np.load(f'{path}ScreamDetection/FINAL/working_data_final/{n_class}_y_valid-vggish.npy',allow_pickle=True)\n",
    "\n",
    "y_train = np.argmax(y_train_hot,axis=1)\n",
    "y_test = np.argmax(y_test_hot,axis=1)\n",
    "y_valid = np.argmax(y_valid_hot,axis=1)\n",
    "#df = pd.DataFrame(d,columns=feature_cols)\n",
    "\n",
    "scaler=StandardScaler()\n",
    "X_train=scaler.fit_transform(X_train)\n",
    "X_test=scaler.transform(X_test)\n",
    "X_valid=scaler.transform(X_valid)"
   ]
  },
  {
   "cell_type": "code",
   "execution_count": 3,
   "metadata": {},
   "outputs": [],
   "source": [
    "def classwise_accuracy(cm):\n",
    "    a=np.zeros(cm.shape)\n",
    "    for i,x in enumerate(cm):\n",
    "        a[i]=x/sum(x)\n",
    "    return a"
   ]
  },
  {
   "cell_type": "code",
   "execution_count": 4,
   "metadata": {},
   "outputs": [],
   "source": [
    "def eval_metrics(y_test,y_pred):\n",
    "    cm = confusion_matrix(y_test,y_pred)\n",
    "    acc = accuracy_score(y_test,y_pred)\n",
    "    f1 = f1_score(y_test,y_pred,average='macro')\n",
    "    macro_acc = balanced_accuracy_score(y_test,y_pred)\n",
    "    classwise_acc = classwise_accuracy(cm)\n",
    "    return(cm,acc,f1,macro_acc,classwise_acc)"
   ]
  },
  {
   "cell_type": "markdown",
   "metadata": {},
   "source": [
    "# kNN"
   ]
  },
  {
   "cell_type": "code",
   "execution_count": 5,
   "metadata": {},
   "outputs": [
    {
     "name": "stdout",
     "output_type": "stream",
     "text": [
      "Overall Accuracy Score: 0.803690036900369\n",
      "Macro Accuracy: 0.8058120416782698\n",
      "Class-wise accuracy: \n",
      "[[0.87268519 0.08564815 0.04166667]\n",
      " [0.19789474 0.73894737 0.06315789]\n",
      " [0.05580357 0.13839286 0.80580357]]\n"
     ]
    },
    {
     "data": {
      "text/plain": [
       "<sklearn.metrics._plot.confusion_matrix.ConfusionMatrixDisplay at 0x10bdf0730>"
      ]
     },
     "execution_count": 5,
     "metadata": {},
     "output_type": "execute_result"
    },
    {
     "data": {
      "image/png": "[encoded data removed]",
      "text/plain": [
       "<Figure size 432x288 with 2 Axes>"
      ]
     },
     "metadata": {
      "needs_background": "light"
     },
     "output_type": "display_data"
    }
   ],
   "source": [
    "k=4\n",
    "KNN_model = KNeighborsClassifier(n_neighbors=k)\n",
    "KNN_model.fit(X_train, y_train)\n",
    "KNN_prediction = KNN_model.predict(X_test)\n",
    "\n",
    "cm,acc,f1,macro_acc,classwise_acc = eval_metrics(y_test,KNN_prediction)\n",
    "\n",
    "print(f\"Overall Accuracy Score: {acc}\")\n",
    "print(f\"Macro Accuracy: {macro_acc}\")\n",
    "print(f\"Class-wise accuracy: \\n{classwise_acc}\")\n",
    "l=labels.values()\n",
    "ConfusionMatrixDisplay(confusion_matrix=cm,display_labels=l).plot()"
   ]
  },
  {
   "cell_type": "markdown",
   "metadata": {},
   "source": [
    "# SVM"
   ]
  },
  {
   "cell_type": "code",
   "execution_count": 7,
   "metadata": {},
   "outputs": [
    {
     "name": "stdout",
     "output_type": "stream",
     "text": [
      "Overall Accuracy Score: 0.8206642066420664\n",
      "Macro Accuracy: 0.8223112178594635\n",
      "F1 score: 0.8210993449903922\n",
      "Class-wise accuracy: \n",
      "[[0.84953704 0.11342593 0.03703704]\n",
      " [0.16       0.75578947 0.08421053]\n",
      " [0.06026786 0.078125   0.86160714]]\n"
     ]
    },
    {
     "data": {
      "text/plain": [
       "<sklearn.metrics._plot.confusion_matrix.ConfusionMatrixDisplay at 0x10be3cf40>"
      ]
     },
     "execution_count": 7,
     "metadata": {},
     "output_type": "execute_result"
    },
    {
     "data": {
      "image/png": "[encoded data removed]",
      "text/plain": [
       "<Figure size 432x288 with 2 Axes>"
      ]
     },
     "metadata": {
      "needs_background": "light"
     },
     "output_type": "display_data"
    }
   ],
   "source": [
    "SVM_model = SVC(gamma='scale',C=1.0533, kernel='poly', degree=2,coef0=2.1,random_state=42)\n",
    "SVM_model.fit(X_train, y_train)\n",
    "\n",
    "SVM_prediction = SVM_model.predict(X_test)\n",
    "\n",
    "cm,acc,f1,macro_acc,classwise_acc = eval_metrics(y_test,SVM_prediction)\n",
    "\n",
    "print(f\"Overall Accuracy Score: {acc}\")\n",
    "print(f\"Macro Accuracy: {macro_acc}\")\n",
    "print(f\"F1 score: {f1}\")\n",
    "print(f\"Class-wise accuracy: \\n{classwise_acc}\")\n",
    "l=labels.values()\n",
    "ConfusionMatrixDisplay(confusion_matrix=cm,display_labels=l).plot()"
   ]
  },
  {
   "cell_type": "code",
   "execution_count": 39,
   "metadata": {},
   "outputs": [
    {
     "data": {
      "text/plain": [
       "array([[0.84953704, 0.10315789, 0.03571429],\n",
       "       [0.17592593, 0.75578947, 0.08928571],\n",
       "       [0.0625    , 0.07368421, 0.86160714]])"
      ]
     },
     "execution_count": 39,
     "metadata": {},
     "output_type": "execute_result"
    }
   ],
   "source": [
    "cm/cm.sum(axis=1)"
   ]
  },
  {
   "cell_type": "markdown",
   "metadata": {},
   "source": [
    "# RF"
   ]
  },
  {
   "cell_type": "code",
   "execution_count": 36,
   "metadata": {},
   "outputs": [
    {
     "name": "stdout",
     "output_type": "stream",
     "text": [
      "Overall Accuracy Score: 0.8191881918819188\n",
      "Macro Accuracy: 0.8203617260744455\n",
      "F1 score: 0.8200458870746504\n",
      "Class-wise accuracy: \n",
      "[[0.83564815 0.13657407 0.02777778]\n",
      " [0.14315789 0.77052632 0.08631579]\n",
      " [0.05580357 0.08928571 0.85491071]]\n"
     ]
    },
    {
     "data": {
      "text/plain": [
       "<sklearn.metrics._plot.confusion_matrix.ConfusionMatrixDisplay at 0x18dc8f310>"
      ]
     },
     "execution_count": 36,
     "metadata": {},
     "output_type": "execute_result"
    },
    {
     "data": {
      "image/png": "[encoded data removed]",
      "text/plain": [
       "<Figure size 432x288 with 2 Axes>"
      ]
     },
     "metadata": {
      "needs_background": "light"
     },
     "output_type": "display_data"
    }
   ],
   "source": [
    "RF_model = RandomForestClassifier(n_estimators=90,criterion='gini',max_depth=None,\\\n",
    "    min_samples_split=2,min_samples_leaf=1,max_features='auto',max_leaf_nodes=None,class_weight='balanced',random_state=42)\n",
    "RF_model.fit(X_train, y_train)\n",
    "RF_prediction = RF_model.predict(X_test)\n",
    "\n",
    "cm,acc,f1,macro_acc,classwise_acc = eval_metrics(y_test,RF_prediction)\n",
    "\n",
    "print(f\"Overall Accuracy Score: {acc}\")\n",
    "print(f\"Macro Accuracy: {macro_acc}\")\n",
    "print(f\"F1 score: {f1}\")\n",
    "print(f\"Class-wise accuracy: \\n{classwise_acc}\")\n",
    "l=labels.values()\n",
    "ConfusionMatrixDisplay(confusion_matrix=cm,display_labels=l).plot()"
   ]
  },
  {
   "cell_type": "code",
   "execution_count": 37,
   "metadata": {},
   "outputs": [
    {
     "data": {
      "text/plain": [
       "array([[0.83564815, 0.12421053, 0.02678571],\n",
       "       [0.15740741, 0.77052632, 0.09151786],\n",
       "       [0.05787037, 0.08421053, 0.85491071]])"
      ]
     },
     "execution_count": 37,
     "metadata": {},
     "output_type": "execute_result"
    }
   ],
   "source": [
    "cm/cm.sum(axis=1)"
   ]
  },
  {
   "cell_type": "code",
   "execution_count": 43,
   "metadata": {},
   "outputs": [
    {
     "data": {
      "application/vnd.plotly.v1+json": {
       "config": {
        "plotlyServerURL": "https://plot.ly"
       },
       "data": [
        {
         "name": "RF",
         "text": [
          0.8356,
          0.7705,
          0.8549
         ],
         "textposition": "outside",
         "texttemplate": "%{text:.2%}",
         "type": "bar",
         "x": [
          "Sing",
          "Scream",
          "No Vocal"
         ],
         "y": [
          0.8356,
          0.7705,
          0.8549
         ]
        },
        {
         "name": "SVM",
         "text": [
          0.8495,
          0.7557,
          0.8616
         ],
         "textposition": "outside",
         "texttemplate": "%{text:.2%}",
         "type": "bar",
         "x": [
          "Sing",
          "Scream",
          "No Vocal"
         ],
         "y": [
          0.8495,
          0.7557,
          0.8616
         ]
        }
       ],
       "layout": {
        "autosize": true,
        "font": {
         "size": 10
        },
        "height": 200,
        "legend": {
         "orientation": "h",
         "x": 0.5,
         "xanchor": "center",
         "y": 1.2,
         "yanchor": "top"
        },
        "margin": {
         "b": 15,
         "l": 10,
         "pad": 0,
         "r": 5,
         "t": 10
        },
        "template": {
         "data": {
          "bar": [
           {
            "error_x": {
             "color": "#2a3f5f"
            },
            "error_y": {
             "color": "#2a3f5f"
            },
            "marker": {
             "line": {
              "color": "#E5ECF6",
              "width": 0.5
             }
            },
            "type": "bar"
           }
          ],
          "barpolar": [
           {
            "marker": {
             "line": {
              "color": "#E5ECF6",
              "width": 0.5
             }
            },
            "type": "barpolar"
           }
          ],
          "carpet": [
           {
            "aaxis": {
             "endlinecolor": "#2a3f5f",
             "gridcolor": "white",
             "linecolor": "white",
             "minorgridcolor": "white",
             "startlinecolor": "#2a3f5f"
            },
            "baxis": {
             "endlinecolor": "#2a3f5f",
             "gridcolor": "white",
             "linecolor": "white",
             "minorgridcolor": "white",
             "startlinecolor": "#2a3f5f"
            },
            "type": "carpet"
           }
          ],
          "choropleth": [
           {
            "colorbar": {
             "outlinewidth": 0,
             "ticks": ""
            },
            "type": "choropleth"
           }
          ],
          "contour": [
           {
            "colorbar": {
             "outlinewidth": 0,
             "ticks": ""
            },
            "colorscale": [
             [
              0,
              "#0d0887"
             ],
             [
              0.1111111111111111,
              "#46039f"
             ],
             [
              0.2222222222222222,
              "#7201a8"
             ],
             [
              0.3333333333333333,
              "#9c179e"
             ],
             [
              0.4444444444444444,
              "#bd3786"
             ],
             [
              0.5555555555555556,
              "#d8576b"
             ],
             [
              0.6666666666666666,
              "#ed7953"
             ],
             [
              0.7777777777777778,
              "#fb9f3a"
             ],
             [
              0.8888888888888888,
              "#fdca26"
             ],
             [
              1,
              "#f0f921"
             ]
            ],
            "type": "contour"
           }
          ],
          "contourcarpet": [
           {
            "colorbar": {
             "outlinewidth": 0,
             "ticks": ""
            },
            "type": "contourcarpet"
           }
          ],
          "heatmap": [
           {
            "colorbar": {
             "outlinewidth": 0,
             "ticks": ""
            },
            "colorscale": [
             [
              0,
              "#0d0887"
             ],
             [
              0.1111111111111111,
              "#46039f"
             ],
             [
              0.2222222222222222,
              "#7201a8"
             ],
             [
              0.3333333333333333,
              "#9c179e"
             ],
             [
              0.4444444444444444,
              "#bd3786"
             ],
             [
              0.5555555555555556,
              "#d8576b"
             ],
             [
              0.6666666666666666,
              "#ed7953"
             ],
             [
              0.7777777777777778,
              "#fb9f3a"
             ],
             [
              0.8888888888888888,
              "#fdca26"
             ],
             [
              1,
              "#f0f921"
             ]
            ],
            "type": "heatmap"
           }
          ],
          "heatmapgl": [
           {
            "colorbar": {
             "outlinewidth": 0,
             "ticks": ""
            },
            "colorscale": [
             [
              0,
              "#0d0887"
             ],
             [
              0.1111111111111111,
              "#46039f"
             ],
             [
              0.2222222222222222,
              "#7201a8"
             ],
             [
              0.3333333333333333,
              "#9c179e"
             ],
             [
              0.4444444444444444,
              "#bd3786"
             ],
             [
              0.5555555555555556,
              "#d8576b"
             ],
             [
              0.6666666666666666,
              "#ed7953"
             ],
             [
              0.7777777777777778,
              "#fb9f3a"
             ],
             [
              0.8888888888888888,
              "#fdca26"
             ],
             [
              1,
              "#f0f921"
             ]
            ],
            "type": "heatmapgl"
           }
          ],
          "histogram": [
           {
            "marker": {
             "colorbar": {
              "outlinewidth": 0,
              "ticks": ""
             }
            },
            "type": "histogram"
           }
          ],
          "histogram2d": [
           {
            "colorbar": {
             "outlinewidth": 0,
             "ticks": ""
            },
            "colorscale": [
             [
              0,
              "#0d0887"
             ],
             [
              0.1111111111111111,
              "#46039f"
             ],
             [
              0.2222222222222222,
              "#7201a8"
             ],
             [
              0.3333333333333333,
              "#9c179e"
             ],
             [
              0.4444444444444444,
              "#bd3786"
             ],
             [
              0.5555555555555556,
              "#d8576b"
             ],
             [
              0.6666666666666666,
              "#ed7953"
             ],
             [
              0.7777777777777778,
              "#fb9f3a"
             ],
             [
              0.8888888888888888,
              "#fdca26"
             ],
             [
              1,
              "#f0f921"
             ]
            ],
            "type": "histogram2d"
           }
          ],
          "histogram2dcontour": [
           {
            "colorbar": {
             "outlinewidth": 0,
             "ticks": ""
            },
            "colorscale": [
             [
              0,
              "#0d0887"
             ],
             [
              0.1111111111111111,
              "#46039f"
             ],
             [
              0.2222222222222222,
              "#7201a8"
             ],
             [
              0.3333333333333333,
              "#9c179e"
             ],
             [
              0.4444444444444444,
              "#bd3786"
             ],
             [
              0.5555555555555556,
              "#d8576b"
             ],
             [
              0.6666666666666666,
              "#ed7953"
             ],
             [
              0.7777777777777778,
              "#fb9f3a"
             ],
             [
              0.8888888888888888,
              "#fdca26"
             ],
             [
              1,
              "#f0f921"
             ]
            ],
            "type": "histogram2dcontour"
           }
          ],
          "mesh3d": [
           {
            "colorbar": {
             "outlinewidth": 0,
             "ticks": ""
            },
            "type": "mesh3d"
           }
          ],
          "parcoords": [
           {
            "line": {
             "colorbar": {
              "outlinewidth": 0,
              "ticks": ""
             }
            },
            "type": "parcoords"
           }
          ],
          "pie": [
           {
            "automargin": true,
            "type": "pie"
           }
          ],
          "scatter": [
           {
            "marker": {
             "colorbar": {
              "outlinewidth": 0,
              "ticks": ""
             }
            },
            "type": "scatter"
           }
          ],
          "scatter3d": [
           {
            "line": {
             "colorbar": {
              "outlinewidth": 0,
              "ticks": ""
             }
            },
            "marker": {
             "colorbar": {
              "outlinewidth": 0,
              "ticks": ""
             }
            },
            "type": "scatter3d"
           }
          ],
          "scattercarpet": [
           {
            "marker": {
             "colorbar": {
              "outlinewidth": 0,
              "ticks": ""
             }
            },
            "type": "scattercarpet"
           }
          ],
          "scattergeo": [
           {
            "marker": {
             "colorbar": {
              "outlinewidth": 0,
              "ticks": ""
             }
            },
            "type": "scattergeo"
           }
          ],
          "scattergl": [
           {
            "marker": {
             "colorbar": {
              "outlinewidth": 0,
              "ticks": ""
             }
            },
            "type": "scattergl"
           }
          ],
          "scattermapbox": [
           {
            "marker": {
             "colorbar": {
              "outlinewidth": 0,
              "ticks": ""
             }
            },
            "type": "scattermapbox"
           }
          ],
          "scatterpolar": [
           {
            "marker": {
             "colorbar": {
              "outlinewidth": 0,
              "ticks": ""
             }
            },
            "type": "scatterpolar"
           }
          ],
          "scatterpolargl": [
           {
            "marker": {
             "colorbar": {
              "outlinewidth": 0,
              "ticks": ""
             }
            },
            "type": "scatterpolargl"
           }
          ],
          "scatterternary": [
           {
            "marker": {
             "colorbar": {
              "outlinewidth": 0,
              "ticks": ""
             }
            },
            "type": "scatterternary"
           }
          ],
          "surface": [
           {
            "colorbar": {
             "outlinewidth": 0,
             "ticks": ""
            },
            "colorscale": [
             [
              0,
              "#0d0887"
             ],
             [
              0.1111111111111111,
              "#46039f"
             ],
             [
              0.2222222222222222,
              "#7201a8"
             ],
             [
              0.3333333333333333,
              "#9c179e"
             ],
             [
              0.4444444444444444,
              "#bd3786"
             ],
             [
              0.5555555555555556,
              "#d8576b"
             ],
             [
              0.6666666666666666,
              "#ed7953"
             ],
             [
              0.7777777777777778,
              "#fb9f3a"
             ],
             [
              0.8888888888888888,
              "#fdca26"
             ],
             [
              1,
              "#f0f921"
             ]
            ],
            "type": "surface"
           }
          ],
          "table": [
           {
            "cells": {
             "fill": {
              "color": "#EBF0F8"
             },
             "line": {
              "color": "white"
             }
            },
            "header": {
             "fill": {
              "color": "#C8D4E3"
             },
             "line": {
              "color": "white"
             }
            },
            "type": "table"
           }
          ]
         },
         "layout": {
          "annotationdefaults": {
           "arrowcolor": "#2a3f5f",
           "arrowhead": 0,
           "arrowwidth": 1
          },
          "autotypenumbers": "strict",
          "coloraxis": {
           "colorbar": {
            "outlinewidth": 0,
            "ticks": ""
           }
          },
          "colorscale": {
           "diverging": [
            [
             0,
             "#8e0152"
            ],
            [
             0.1,
             "#c51b7d"
            ],
            [
             0.2,
             "#de77ae"
            ],
            [
             0.3,
             "#f1b6da"
            ],
            [
             0.4,
             "#fde0ef"
            ],
            [
             0.5,
             "#f7f7f7"
            ],
            [
             0.6,
             "#e6f5d0"
            ],
            [
             0.7,
             "#b8e186"
            ],
            [
             0.8,
             "#7fbc41"
            ],
            [
             0.9,
             "#4d9221"
            ],
            [
             1,
             "#276419"
            ]
           ],
           "sequential": [
            [
             0,
             "#0d0887"
            ],
            [
             0.1111111111111111,
             "#46039f"
            ],
            [
             0.2222222222222222,
             "#7201a8"
            ],
            [
             0.3333333333333333,
             "#9c179e"
            ],
            [
             0.4444444444444444,
             "#bd3786"
            ],
            [
             0.5555555555555556,
             "#d8576b"
            ],
            [
             0.6666666666666666,
             "#ed7953"
            ],
            [
             0.7777777777777778,
             "#fb9f3a"
            ],
            [
             0.8888888888888888,
             "#fdca26"
            ],
            [
             1,
             "#f0f921"
            ]
           ],
           "sequentialminus": [
            [
             0,
             "#0d0887"
            ],
            [
             0.1111111111111111,
             "#46039f"
            ],
            [
             0.2222222222222222,
             "#7201a8"
            ],
            [
             0.3333333333333333,
             "#9c179e"
            ],
            [
             0.4444444444444444,
             "#bd3786"
            ],
            [
             0.5555555555555556,
             "#d8576b"
            ],
            [
             0.6666666666666666,
             "#ed7953"
            ],
            [
             0.7777777777777778,
             "#fb9f3a"
            ],
            [
             0.8888888888888888,
             "#fdca26"
            ],
            [
             1,
             "#f0f921"
            ]
           ]
          },
          "colorway": [
           "#636efa",
           "#EF553B",
           "#00cc96",
           "#ab63fa",
           "#FFA15A",
           "#19d3f3",
           "#FF6692",
           "#B6E880",
           "#FF97FF",
           "#FECB52"
          ],
          "font": {
           "color": "#2a3f5f"
          },
          "geo": {
           "bgcolor": "white",
           "lakecolor": "white",
           "landcolor": "#E5ECF6",
           "showlakes": true,
           "showland": true,
           "subunitcolor": "white"
          },
          "hoverlabel": {
           "align": "left"
          },
          "hovermode": "closest",
          "mapbox": {
           "style": "light"
          },
          "paper_bgcolor": "white",
          "plot_bgcolor": "#E5ECF6",
          "polar": {
           "angularaxis": {
            "gridcolor": "white",
            "linecolor": "white",
            "ticks": ""
           },
           "bgcolor": "#E5ECF6",
           "radialaxis": {
            "gridcolor": "white",
            "linecolor": "white",
            "ticks": ""
           }
          },
          "scene": {
           "xaxis": {
            "backgroundcolor": "#E5ECF6",
            "gridcolor": "white",
            "gridwidth": 2,
            "linecolor": "white",
            "showbackground": true,
            "ticks": "",
            "zerolinecolor": "white"
           },
           "yaxis": {
            "backgroundcolor": "#E5ECF6",
            "gridcolor": "white",
            "gridwidth": 2,
            "linecolor": "white",
            "showbackground": true,
            "ticks": "",
            "zerolinecolor": "white"
           },
           "zaxis": {
            "backgroundcolor": "#E5ECF6",
            "gridcolor": "white",
            "gridwidth": 2,
            "linecolor": "white",
            "showbackground": true,
            "ticks": "",
            "zerolinecolor": "white"
           }
          },
          "shapedefaults": {
           "line": {
            "color": "#2a3f5f"
           }
          },
          "ternary": {
           "aaxis": {
            "gridcolor": "white",
            "linecolor": "white",
            "ticks": ""
           },
           "baxis": {
            "gridcolor": "white",
            "linecolor": "white",
            "ticks": ""
           },
           "bgcolor": "#E5ECF6",
           "caxis": {
            "gridcolor": "white",
            "linecolor": "white",
            "ticks": ""
           }
          },
          "title": {
           "x": 0.05
          },
          "xaxis": {
           "automargin": true,
           "gridcolor": "white",
           "linecolor": "white",
           "ticks": "",
           "title": {
            "standoff": 15
           },
           "zerolinecolor": "white",
           "zerolinewidth": 2
          },
          "yaxis": {
           "automargin": true,
           "gridcolor": "white",
           "linecolor": "white",
           "ticks": "",
           "title": {
            "standoff": 15
           },
           "zerolinecolor": "white",
           "zerolinewidth": 2
          }
         }
        },
        "uniformtext": {
         "minsize": 10
        },
        "width": 300,
        "xaxis": {
         "tickangle": 0,
         "title": {
          "font": {
           "size": 1
          },
          "standoff": 0,
          "text": ""
         }
        },
        "yaxis": {
         "range": [
          0.6,
          1
         ],
         "tickangle": 0,
         "tickformat": ",.0%",
         "title": {
          "standoff": 5,
          "text": "Accuracy"
         }
        }
       }
      }
     },
     "metadata": {},
     "output_type": "display_data"
    }
   ],
   "source": [
    "import numpy as np\n",
    "import pandas as pd\n",
    "classes=np.array(['Sing','Scream','No Vocal'])\n",
    "# knn_classwise=np.array([0.49152542,0.49152542,0.18145161,0,0.26282051,0.68243243])\n",
    "rf_classwise = np.array([.8356,.7705,.8549])\n",
    "svm_classwise = np.array([.8495,.7557,.8616])\n",
    "# fcnn_classwise = np.array([.6271,.5357,.1935,.0298,.3333,.8108])\n",
    "# cnn_classwise = np.array([0.8953,0.8127,0.9180])\n",
    "df=pd.DataFrame()\n",
    "\n",
    "# df['kNN']=knn_classwise\n",
    "df['Random Forest'] = rf_classwise\n",
    "df['SVM'] = svm_classwise\n",
    "# df['Fully Connected Network'] = fcnn_classwise\n",
    "# df['CNN'] = cnn_classwise\n",
    "\n",
    "df=df.T\n",
    "df.columns=classes\n",
    "df=df.T\n",
    "\n",
    "import plotly.graph_objects as go\n",
    "fig=go.Figure(data=[\n",
    "        go.Bar(name=\"RF\",\n",
    "            x=df.index, y=df['Random Forest'],\n",
    "            text=df['Random Forest'],\n",
    "            textposition='inside',\n",
    "            ),\n",
    "        go.Bar(name=\"SVM\",\n",
    "            x=df.index, y=df['SVM'],\n",
    "            text=df['SVM'],\n",
    "            textposition=\"inside\",\n",
    "            )\n",
    "        ])\n",
    "fig.update_traces(texttemplate='%{text:.2%}', textposition='outside')\n",
    "fig.update_layout(\n",
    "    autosize=True,\n",
    "    width=300,\n",
    "    height=200,\n",
    "    # title={\n",
    "    #     'text': \"Classwise accuracy\",\n",
    "    #     'x':0.5,\n",
    "    #     'y':0.95,\n",
    "    #     'xanchor': 'center',\n",
    "    #     'yanchor': 'top',\n",
    "    #     },\n",
    "    font=dict(\n",
    "        size=10\n",
    "    ),\n",
    "    margin=dict(\n",
    "        l=10,\n",
    "        r=5,\n",
    "        b=15,\n",
    "        t=10,\n",
    "        pad=0\n",
    "    ),\n",
    "    legend=dict(\n",
    "    orientation=\"h\",\n",
    "    yanchor=\"top\",\n",
    "    y=1.2,\n",
    "    xanchor=\"center\",\n",
    "    x=0.5\n",
    "\n",
    ")\n",
    "    )\n",
    "fig.update_xaxes(\n",
    "        tickangle = 0,\n",
    "        title_text = \"\",\n",
    "        title_font = {\"size\": 1},\n",
    "        title_standoff = 0)\n",
    "    \n",
    "fig.update_yaxes(\n",
    "        tickangle = 0,\n",
    "        title_text = \"Accuracy\",\n",
    "        # title_font = {\"size\": 14},\n",
    "        title_standoff = 5)\n",
    "# fig.update_layout(legend_title_text='')\n",
    "fig.update_layout(yaxis= { 'tickformat': ',.0%'})\n",
    "fig.update_layout(uniformtext_minsize=10)\n",
    "fig.update_yaxes(range=[0.6,1.0])\n",
    "fig.write_image(\"/Users/vedant/Desktop/Programming/ScreamDetection/classwise-accuracies-vggish-200x300.pdf\", format=\"pdf\", width=300, height=200, scale=2)\n",
    "fig"
   ]
  },
  {
   "cell_type": "markdown",
   "metadata": {},
   "source": [
    "# FCNN"
   ]
  },
  {
   "cell_type": "code",
   "execution_count": 15,
   "metadata": {},
   "outputs": [],
   "source": [
    "import tensorflow.keras as keras\n",
    "from tensorflow.keras.models import Sequential\n",
    "from tensorflow.keras.layers import Dense, Dropout, Flatten\n",
    "from tensorflow.keras.layers import Conv2D, MaxPooling2D\n",
    "from tensorflow.keras import backend as K\n",
    "from tensorflow.keras.utils import to_categorical\n",
    "\n",
    "from sklearn.preprocessing import StandardScaler\n",
    "\n",
    "\n",
    "import plotly.graph_objs as go\n",
    "from plotly.subplots import make_subplots\n",
    "\n",
    "import pandas as pd\n",
    "def train_models(X_train,y_train_hot,X_test,y_test_hot,epochs,batch_size,lr,layer1_nodes,optimiser,loss,verbose,save=False):\n",
    "    model = Sequential()\n",
    "    input_shape = (128,1)#(128, 87, 1)\n",
    "    # model.add(Dense(128, activation='relu'))\n",
    "    # model.add(Dense(6, activation='softmax'))\n",
    "    model.add(Dense(layer1_nodes,input_dim=128, activation='relu'))\n",
    "    # model.add(Dense(32, activation='relu'))\n",
    "    # model.add(Dense(16, activation='relu'))\n",
    "    # model.add(Dense(10, activation='relu'))\n",
    "    model.add(Dense(3, activation='softmax'))\n",
    "\n",
    "    if optimiser=='adadelta':\n",
    "        optim=keras.optimizers.Adadelta(learning_rate=lr)\n",
    "    if optimiser == 'adam':\n",
    "        optim=keras.optimizers.Adam(learning_rate=lr)\n",
    "\n",
    "    if loss == 'crossentropy':\n",
    "        loss_fn = keras.losses.categorical_crossentropy\n",
    "\n",
    "    model.compile(loss=loss_fn,\n",
    "                optimizer=optim,\n",
    "                metrics=['accuracy'])\n",
    "    model.build(input_shape)\n",
    "    model.summary()\n",
    "    # fit the model\n",
    "    history=model.fit(X_train, y_train_hot,\n",
    "            batch_size=batch_size,\n",
    "            epochs=epochs,\n",
    "            verbose=verbose,\n",
    "            validation_data=(X_test, y_test_hot))\n",
    "    training_loss=history.history['loss']\n",
    "    validation_loss=history.history['val_loss']\n",
    "    training_acc=history.history['accuracy']\n",
    "    validation_acc=history.history['val_accuracy']\n",
    "    df=pd.DataFrame()\n",
    "    df['training_loss'] = training_loss\n",
    "    df['validation_loss'] = validation_loss\n",
    "    df['training_acc'] = training_acc\n",
    "    df['validation_acc'] = validation_acc\n",
    "    lr_str=str(lr).replace('.','_')\n",
    "    model_name=f'fcnn_layer1-{layer1_nodes}_batch-{batch_size}_epochs-{epochs}_lr-{lr_str}'\n",
    "    if save:\n",
    "        model.save(f'{path}ScreamDetection/CNN/trained_models/fcnn/{model_name}')\n",
    "        df.to_csv(f'{path}ScreamDetection/CNN/trained_models/fcnn/{model_name}.csv')\n",
    "\n",
    "    trace1 = go.Scatter(\n",
    "    x=df.index,\n",
    "        y=df['training_loss'],\n",
    "        name='Training Loss'\n",
    "    )\n",
    "    trace2 = go.Scatter(\n",
    "        x=df.index,\n",
    "        y=df['validation_loss'],\n",
    "        name='Validation Loss'\n",
    "    )\n",
    "    trace3 = go.Scatter(\n",
    "        x=df.index,\n",
    "        y=df['training_acc'],\n",
    "        name='Training Accuracy',\n",
    "        yaxis='y2'\n",
    "    )\n",
    "    trace4 = go.Scatter(\n",
    "        x=df.index,\n",
    "        y=df['validation_acc'],\n",
    "        name='Validation Accuracy',\n",
    "        yaxis='y2'\n",
    "    )\n",
    "\n",
    "    fig = make_subplots(specs=[[{\"secondary_y\": True}]])\n",
    "    fig.add_trace(trace1)\n",
    "    fig.add_trace(trace2)\n",
    "    fig.add_trace(trace3,secondary_y=True)\n",
    "    fig.add_trace(trace4,secondary_y=True)\n",
    "    fig.show()\n",
    "    return model"
   ]
  },
  {
   "cell_type": "code",
   "execution_count": 16,
   "metadata": {},
   "outputs": [],
   "source": [
    "# X_train = X_train.reshape(-1, 12)\n",
    "# X_test = X_test.reshape(-1, 12)\n",
    "# X_valid = X_valid.reshape(-1, 12)"
   ]
  },
  {
   "cell_type": "code",
   "execution_count": 17,
   "metadata": {},
   "outputs": [
    {
     "name": "stdout",
     "output_type": "stream",
     "text": [
      "Model: \"sequential_1\"\n",
      "_________________________________________________________________\n",
      "Layer (type)                 Output Shape              Param #   \n",
      "=================================================================\n",
      "dense_2 (Dense)              (None, 512)               66048     \n",
      "_________________________________________________________________\n",
      "dense_3 (Dense)              (None, 3)                 1539      \n",
      "=================================================================\n",
      "Total params: 67,587\n",
      "Trainable params: 67,587\n",
      "Non-trainable params: 0\n",
      "_________________________________________________________________\n"
     ]
    },
    {
     "data": {
      "application/vnd.plotly.v1+json": {
       "config": {
        "plotlyServerURL": "https://plot.ly"
       },
       "data": [
        {
         "name": "Training Loss",
         "type": "scatter",
         "x": [
          0,
          1,
          2,
          3,
          4,
          5,
          6,
          7,
          8,
          9,
          10,
          11,
          12,
          13,
          14,
          15,
          16,
          17,
          18,
          19,
          20,
          21,
          22,
          23,
          24,
          25,
          26,
          27,
          28,
          29,
          30,
          31,
          32,
          33,
          34,
          35,
          36,
          37,
          38,
          39,
          40,
          41,
          42,
          43,
          44,
          45,
          46,
          47,
          48,
          49,
          50,
          51,
          52,
          53,
          54,
          55,
          56,
          57,
          58,
          59,
          60,
          61,
          62,
          63,
          64,
          65,
          66,
          67,
          68,
          69,
          70,
          71,
          72,
          73,
          74,
          75,
          76,
          77,
          78,
          79,
          80,
          81,
          82,
          83,
          84,
          85,
          86,
          87,
          88,
          89,
          90,
          91,
          92,
          93,
          94,
          95,
          96,
          97,
          98,
          99
         ],
         "y": [
          1.2369624376296997,
          1.0187737941741943,
          0.8467552661895752,
          0.7191468477249146,
          0.6316462159156799,
          0.5719969272613525,
          0.5308361649513245,
          0.5014340877532959,
          0.4796927273273468,
          0.4626317024230957,
          0.44884175062179565,
          0.4374982714653015,
          0.4276725649833679,
          0.41923677921295166,
          0.4118165373802185,
          0.40520092844963074,
          0.39909589290618896,
          0.39366352558135986,
          0.3885972201824188,
          0.3840000033378601,
          0.37963929772377014,
          0.37553802132606506,
          0.3718280792236328,
          0.36827945709228516,
          0.36481791734695435,
          0.36166372895240784,
          0.3586418926715851,
          0.355773001909256,
          0.35304224491119385,
          0.350326806306839,
          0.347819060087204,
          0.3453482985496521,
          0.34299802780151367,
          0.3407222628593445,
          0.33854159712791443,
          0.33641085028648376,
          0.3342966139316559,
          0.3323032259941101,
          0.3303738236427307,
          0.3284734785556793,
          0.3266090452671051,
          0.3248915672302246,
          0.3230958878993988,
          0.3213857412338257,
          0.3197267949581146,
          0.31810709834098816,
          0.3165028393268585,
          0.31497329473495483,
          0.3134121894836426,
          0.3119300603866577,
          0.31041666865348816,
          0.3090004026889801,
          0.30756083130836487,
          0.3061230480670929,
          0.30475956201553345,
          0.3033958375453949,
          0.3020852208137512,
          0.30073991417884827,
          0.29941248893737793,
          0.2981407344341278,
          0.2969018518924713,
          0.29568949341773987,
          0.2944129407405853,
          0.29316961765289307,
          0.292000949382782,
          0.2908467948436737,
          0.2896924316883087,
          0.28853270411491394,
          0.28741616010665894,
          0.28628307580947876,
          0.28517234325408936,
          0.2840399742126465,
          0.28291934728622437,
          0.2818511426448822,
          0.2807862162590027,
          0.27969881892204285,
          0.2787156403064728,
          0.27763861417770386,
          0.27661922574043274,
          0.2755976617336273,
          0.27456873655319214,
          0.27355295419692993,
          0.27254655957221985,
          0.2716042697429657,
          0.27056968212127686,
          0.26962530612945557,
          0.2686232328414917,
          0.267707496881485,
          0.2667084336280823,
          0.26577410101890564,
          0.2648317515850067,
          0.26391860842704773,
          0.26299118995666504,
          0.26211029291152954,
          0.2611716091632843,
          0.26030343770980835,
          0.2593946158885956,
          0.25850456953048706,
          0.2576340138912201,
          0.25675010681152344
         ]
        },
        {
         "name": "Validation Loss",
         "type": "scatter",
         "x": [
          0,
          1,
          2,
          3,
          4,
          5,
          6,
          7,
          8,
          9,
          10,
          11,
          12,
          13,
          14,
          15,
          16,
          17,
          18,
          19,
          20,
          21,
          22,
          23,
          24,
          25,
          26,
          27,
          28,
          29,
          30,
          31,
          32,
          33,
          34,
          35,
          36,
          37,
          38,
          39,
          40,
          41,
          42,
          43,
          44,
          45,
          46,
          47,
          48,
          49,
          50,
          51,
          52,
          53,
          54,
          55,
          56,
          57,
          58,
          59,
          60,
          61,
          62,
          63,
          64,
          65,
          66,
          67,
          68,
          69,
          70,
          71,
          72,
          73,
          74,
          75,
          76,
          77,
          78,
          79,
          80,
          81,
          82,
          83,
          84,
          85,
          86,
          87,
          88,
          89,
          90,
          91,
          92,
          93,
          94,
          95,
          96,
          97,
          98,
          99
         ],
         "y": [
          1.0506024360656738,
          0.8813536167144775,
          0.7556027770042419,
          0.6683629155158997,
          0.6103374361991882,
          0.5725140571594238,
          0.547000527381897,
          0.5290817618370056,
          0.5159468650817871,
          0.5059013366699219,
          0.4979676902294159,
          0.49152129888534546,
          0.4862569570541382,
          0.48189836740493774,
          0.47806522250175476,
          0.474543035030365,
          0.4716806411743164,
          0.46936362981796265,
          0.46743321418762207,
          0.4658247232437134,
          0.4641925096511841,
          0.46289896965026855,
          0.46174171566963196,
          0.4606657028198242,
          0.4596996307373047,
          0.45901238918304443,
          0.4583434462547302,
          0.45776885747909546,
          0.45703575015068054,
          0.45624008774757385,
          0.45576992630958557,
          0.45513448119163513,
          0.4546903073787689,
          0.4542032778263092,
          0.4537089467048645,
          0.4535718262195587,
          0.45350882411003113,
          0.4530915319919586,
          0.4526827931404114,
          0.4524367153644562,
          0.45213717222213745,
          0.45229437947273254,
          0.45184817910194397,
          0.45172834396362305,
          0.4516344666481018,
          0.4516980051994324,
          0.45170024037361145,
          0.45160818099975586,
          0.4514821767807007,
          0.4513169527053833,
          0.45150232315063477,
          0.45154044032096863,
          0.4514198899269104,
          0.4514407515525818,
          0.4515255093574524,
          0.4516373574733734,
          0.45182934403419495,
          0.4517345726490021,
          0.4516832232475281,
          0.45188871026039124,
          0.452162504196167,
          0.45198681950569153,
          0.452302485704422,
          0.452377587556839,
          0.452385276556015,
          0.4523324966430664,
          0.45237407088279724,
          0.4527624845504761,
          0.453059583902359,
          0.45343196392059326,
          0.4534122049808502,
          0.45330002903938293,
          0.45299816131591797,
          0.4530755877494812,
          0.45313167572021484,
          0.4532647132873535,
          0.4534604847431183,
          0.4537698030471802,
          0.4539232850074768,
          0.4545140862464905,
          0.4546591639518738,
          0.4549669623374939,
          0.4551680386066437,
          0.45524725317955017,
          0.45538491010665894,
          0.45507654547691345,
          0.4552079737186432,
          0.45517563819885254,
          0.45528852939605713,
          0.45574474334716797,
          0.4557698667049408,
          0.4559824466705322,
          0.4558548331260681,
          0.45622801780700684,
          0.4562280774116516,
          0.45648428797721863,
          0.45668044686317444,
          0.45679107308387756,
          0.4571220576763153,
          0.45754188299179077
         ]
        },
        {
         "name": "Training Accuracy",
         "type": "scatter",
         "x": [
          0,
          1,
          2,
          3,
          4,
          5,
          6,
          7,
          8,
          9,
          10,
          11,
          12,
          13,
          14,
          15,
          16,
          17,
          18,
          19,
          20,
          21,
          22,
          23,
          24,
          25,
          26,
          27,
          28,
          29,
          30,
          31,
          32,
          33,
          34,
          35,
          36,
          37,
          38,
          39,
          40,
          41,
          42,
          43,
          44,
          45,
          46,
          47,
          48,
          49,
          50,
          51,
          52,
          53,
          54,
          55,
          56,
          57,
          58,
          59,
          60,
          61,
          62,
          63,
          64,
          65,
          66,
          67,
          68,
          69,
          70,
          71,
          72,
          73,
          74,
          75,
          76,
          77,
          78,
          79,
          80,
          81,
          82,
          83,
          84,
          85,
          86,
          87,
          88,
          89,
          90,
          91,
          92,
          93,
          94,
          95,
          96,
          97,
          98,
          99
         ],
         "xaxis": "x",
         "y": [
          0.33779555559158325,
          0.4787899851799011,
          0.6611613631248474,
          0.7753824591636658,
          0.805111289024353,
          0.8209318518638611,
          0.8292768001556396,
          0.8353615999221802,
          0.8426634073257446,
          0.8468359112739563,
          0.851356029510498,
          0.8537899851799011,
          0.8551807999610901,
          0.8583101630210876,
          0.8598748445510864,
          0.8610917925834656,
          0.8626564741134644,
          0.864568829536438,
          0.8661335110664368,
          0.8685674667358398,
          0.869784414768219,
          0.8715229630470276,
          0.8723922371864319,
          0.8737830519676208,
          0.8743045926094055,
          0.8753477334976196,
          0.8769123554229736,
          0.8781293630599976,
          0.8795201778411865,
          0.8800417184829712,
          0.8819540739059448,
          0.8823018074035645,
          0.8831710815429688,
          0.8838664889335632,
          0.8843880295753479,
          0.8850834369659424,
          0.8857788443565369,
          0.8869958519935608,
          0.8876912593841553,
          0.8887343406677246,
          0.8896036148071289,
          0.8896036148071289,
          0.8904728889465332,
          0.8911682963371277,
          0.8918637037277222,
          0.892211377620697,
          0.8929068446159363,
          0.8936022520065308,
          0.8937760591506958,
          0.8942976593971252,
          0.8955146074295044,
          0.8953407406806946,
          0.8963838815689087,
          0.8967315554618835,
          0.8977746963500977,
          0.8982962369918823,
          0.898643970489502,
          0.8991655111312866,
          0.8996870517730713,
          0.9003824591636658,
          0.9003824591636658,
          0.9010778665542603,
          0.9010778665542603,
          0.9017732739448547,
          0.9019471406936646,
          0.9021210074424744,
          0.9028164148330688,
          0.9033379554748535,
          0.9043810963630676,
          0.9045549631118774,
          0.9042072296142578,
          0.9049026370048523,
          0.905424177646637,
          0.9052503705024719,
          0.905424177646637,
          0.9059457778930664,
          0.9066411852836609,
          0.9062934517860413,
          0.9069888591766357,
          0.9071627259254456,
          0.9075104594230652,
          0.90785813331604,
          0.90785813331604,
          0.9085535407066345,
          0.9090750813484192,
          0.9095966815948486,
          0.9094228148460388,
          0.9094228148460388,
          0.9094228148460388,
          0.9108136296272278,
          0.9109874963760376,
          0.9108136296272278,
          0.9118567705154419,
          0.9123783111572266,
          0.9128998517990112,
          0.9132475852966309,
          0.9139429926872253,
          0.9142906665802002,
          0.91446453332901,
          0.91446453332901
         ],
         "yaxis": "y2"
        },
        {
         "name": "Validation Accuracy",
         "type": "scatter",
         "x": [
          0,
          1,
          2,
          3,
          4,
          5,
          6,
          7,
          8,
          9,
          10,
          11,
          12,
          13,
          14,
          15,
          16,
          17,
          18,
          19,
          20,
          21,
          22,
          23,
          24,
          25,
          26,
          27,
          28,
          29,
          30,
          31,
          32,
          33,
          34,
          35,
          36,
          37,
          38,
          39,
          40,
          41,
          42,
          43,
          44,
          45,
          46,
          47,
          48,
          49,
          50,
          51,
          52,
          53,
          54,
          55,
          56,
          57,
          58,
          59,
          60,
          61,
          62,
          63,
          64,
          65,
          66,
          67,
          68,
          69,
          70,
          71,
          72,
          73,
          74,
          75,
          76,
          77,
          78,
          79,
          80,
          81,
          82,
          83,
          84,
          85,
          86,
          87,
          88,
          89,
          90,
          91,
          92,
          93,
          94,
          95,
          96,
          97,
          98,
          99
         ],
         "xaxis": "x",
         "y": [
          0.45018449425697327,
          0.5889298915863037,
          0.7416974306106567,
          0.7712177038192749,
          0.7889298796653748,
          0.7955719828605652,
          0.7992619872093201,
          0.8059040307998657,
          0.8081181049346924,
          0.8191881775856018,
          0.8221402168273926,
          0.8199262022972107,
          0.8221402168273926,
          0.8228782415390015,
          0.8228782415390015,
          0.8258302807807922,
          0.8273062705993652,
          0.8265682458877563,
          0.8258302807807922,
          0.8280442953109741,
          0.8295202851295471,
          0.8295202851295471,
          0.8309963345527649,
          0.8339483141899109,
          0.8332103490829468,
          0.8339483141899109,
          0.8346863389015198,
          0.8354243636131287,
          0.8354243636131287,
          0.8376383781433105,
          0.8376383781433105,
          0.8376383781433105,
          0.8369003534317017,
          0.8369003534317017,
          0.8383764028549194,
          0.8383764028549194,
          0.8391143679618835,
          0.8383764028549194,
          0.8383764028549194,
          0.8369003534317017,
          0.8361623883247375,
          0.8369003534317017,
          0.8369003534317017,
          0.8391143679618835,
          0.8413284420967102,
          0.8413284420967102,
          0.8420664072036743,
          0.8435424566268921,
          0.8442804217338562,
          0.8442804217338562,
          0.8450184464454651,
          0.8442804217338562,
          0.845756471157074,
          0.847232460975647,
          0.845756471157074,
          0.847232460975647,
          0.847232460975647,
          0.8464944362640381,
          0.8464944362640381,
          0.847232460975647,
          0.847232460975647,
          0.847232460975647,
          0.8464944362640381,
          0.845756471157074,
          0.8479704856872559,
          0.847232460975647,
          0.847232460975647,
          0.8479704856872559,
          0.8464944362640381,
          0.8479704856872559,
          0.8479704856872559,
          0.8479704856872559,
          0.8494464755058289,
          0.8494464755058289,
          0.8487085103988647,
          0.847232460975647,
          0.847232460975647,
          0.847232460975647,
          0.847232460975647,
          0.8479704856872559,
          0.8479704856872559,
          0.847232460975647,
          0.847232460975647,
          0.8479704856872559,
          0.8479704856872559,
          0.8479704856872559,
          0.8487085103988647,
          0.8487085103988647,
          0.8494464755058289,
          0.8479704856872559,
          0.8487085103988647,
          0.8494464755058289,
          0.8487085103988647,
          0.8487085103988647,
          0.8479704856872559,
          0.8494464755058289,
          0.8494464755058289,
          0.8501845002174377,
          0.8494464755058289,
          0.8494464755058289
         ],
         "yaxis": "y2"
        }
       ],
       "layout": {
        "template": {
         "data": {
          "bar": [
           {
            "error_x": {
             "color": "#2a3f5f"
            },
            "error_y": {
             "color": "#2a3f5f"
            },
            "marker": {
             "line": {
              "color": "#E5ECF6",
              "width": 0.5
             }
            },
            "type": "bar"
           }
          ],
          "barpolar": [
           {
            "marker": {
             "line": {
              "color": "#E5ECF6",
              "width": 0.5
             }
            },
            "type": "barpolar"
           }
          ],
          "carpet": [
           {
            "aaxis": {
             "endlinecolor": "#2a3f5f",
             "gridcolor": "white",
             "linecolor": "white",
             "minorgridcolor": "white",
             "startlinecolor": "#2a3f5f"
            },
            "baxis": {
             "endlinecolor": "#2a3f5f",
             "gridcolor": "white",
             "linecolor": "white",
             "minorgridcolor": "white",
             "startlinecolor": "#2a3f5f"
            },
            "type": "carpet"
           }
          ],
          "choropleth": [
           {
            "colorbar": {
             "outlinewidth": 0,
             "ticks": ""
            },
            "type": "choropleth"
           }
          ],
          "contour": [
           {
            "colorbar": {
             "outlinewidth": 0,
             "ticks": ""
            },
            "colorscale": [
             [
              0,
              "#0d0887"
             ],
             [
              0.1111111111111111,
              "#46039f"
             ],
             [
              0.2222222222222222,
              "#7201a8"
             ],
             [
              0.3333333333333333,
              "#9c179e"
             ],
             [
              0.4444444444444444,
              "#bd3786"
             ],
             [
              0.5555555555555556,
              "#d8576b"
             ],
             [
              0.6666666666666666,
              "#ed7953"
             ],
             [
              0.7777777777777778,
              "#fb9f3a"
             ],
             [
              0.8888888888888888,
              "#fdca26"
             ],
             [
              1,
              "#f0f921"
             ]
            ],
            "type": "contour"
           }
          ],
          "contourcarpet": [
           {
            "colorbar": {
             "outlinewidth": 0,
             "ticks": ""
            },
            "type": "contourcarpet"
           }
          ],
          "heatmap": [
           {
            "colorbar": {
             "outlinewidth": 0,
             "ticks": ""
            },
            "colorscale": [
             [
              0,
              "#0d0887"
             ],
             [
              0.1111111111111111,
              "#46039f"
             ],
             [
              0.2222222222222222,
              "#7201a8"
             ],
             [
              0.3333333333333333,
              "#9c179e"
             ],
             [
              0.4444444444444444,
              "#bd3786"
             ],
             [
              0.5555555555555556,
              "#d8576b"
             ],
             [
              0.6666666666666666,
              "#ed7953"
             ],
             [
              0.7777777777777778,
              "#fb9f3a"
             ],
             [
              0.8888888888888888,
              "#fdca26"
             ],
             [
              1,
              "#f0f921"
             ]
            ],
            "type": "heatmap"
           }
          ],
          "heatmapgl": [
           {
            "colorbar": {
             "outlinewidth": 0,
             "ticks": ""
            },
            "colorscale": [
             [
              0,
              "#0d0887"
             ],
             [
              0.1111111111111111,
              "#46039f"
             ],
             [
              0.2222222222222222,
              "#7201a8"
             ],
             [
              0.3333333333333333,
              "#9c179e"
             ],
             [
              0.4444444444444444,
              "#bd3786"
             ],
             [
              0.5555555555555556,
              "#d8576b"
             ],
             [
              0.6666666666666666,
              "#ed7953"
             ],
             [
              0.7777777777777778,
              "#fb9f3a"
             ],
             [
              0.8888888888888888,
              "#fdca26"
             ],
             [
              1,
              "#f0f921"
             ]
            ],
            "type": "heatmapgl"
           }
          ],
          "histogram": [
           {
            "marker": {
             "colorbar": {
              "outlinewidth": 0,
              "ticks": ""
             }
            },
            "type": "histogram"
           }
          ],
          "histogram2d": [
           {
            "colorbar": {
             "outlinewidth": 0,
             "ticks": ""
            },
            "colorscale": [
             [
              0,
              "#0d0887"
             ],
             [
              0.1111111111111111,
              "#46039f"
             ],
             [
              0.2222222222222222,
              "#7201a8"
             ],
             [
              0.3333333333333333,
              "#9c179e"
             ],
             [
              0.4444444444444444,
              "#bd3786"
             ],
             [
              0.5555555555555556,
              "#d8576b"
             ],
             [
              0.6666666666666666,
              "#ed7953"
             ],
             [
              0.7777777777777778,
              "#fb9f3a"
             ],
             [
              0.8888888888888888,
              "#fdca26"
             ],
             [
              1,
              "#f0f921"
             ]
            ],
            "type": "histogram2d"
           }
          ],
          "histogram2dcontour": [
           {
            "colorbar": {
             "outlinewidth": 0,
             "ticks": ""
            },
            "colorscale": [
             [
              0,
              "#0d0887"
             ],
             [
              0.1111111111111111,
              "#46039f"
             ],
             [
              0.2222222222222222,
              "#7201a8"
             ],
             [
              0.3333333333333333,
              "#9c179e"
             ],
             [
              0.4444444444444444,
              "#bd3786"
             ],
             [
              0.5555555555555556,
              "#d8576b"
             ],
             [
              0.6666666666666666,
              "#ed7953"
             ],
             [
              0.7777777777777778,
              "#fb9f3a"
             ],
             [
              0.8888888888888888,
              "#fdca26"
             ],
             [
              1,
              "#f0f921"
             ]
            ],
            "type": "histogram2dcontour"
           }
          ],
          "mesh3d": [
           {
            "colorbar": {
             "outlinewidth": 0,
             "ticks": ""
            },
            "type": "mesh3d"
           }
          ],
          "parcoords": [
           {
            "line": {
             "colorbar": {
              "outlinewidth": 0,
              "ticks": ""
             }
            },
            "type": "parcoords"
           }
          ],
          "pie": [
           {
            "automargin": true,
            "type": "pie"
           }
          ],
          "scatter": [
           {
            "marker": {
             "colorbar": {
              "outlinewidth": 0,
              "ticks": ""
             }
            },
            "type": "scatter"
           }
          ],
          "scatter3d": [
           {
            "line": {
             "colorbar": {
              "outlinewidth": 0,
              "ticks": ""
             }
            },
            "marker": {
             "colorbar": {
              "outlinewidth": 0,
              "ticks": ""
             }
            },
            "type": "scatter3d"
           }
          ],
          "scattercarpet": [
           {
            "marker": {
             "colorbar": {
              "outlinewidth": 0,
              "ticks": ""
             }
            },
            "type": "scattercarpet"
           }
          ],
          "scattergeo": [
           {
            "marker": {
             "colorbar": {
              "outlinewidth": 0,
              "ticks": ""
             }
            },
            "type": "scattergeo"
           }
          ],
          "scattergl": [
           {
            "marker": {
             "colorbar": {
              "outlinewidth": 0,
              "ticks": ""
             }
            },
            "type": "scattergl"
           }
          ],
          "scattermapbox": [
           {
            "marker": {
             "colorbar": {
              "outlinewidth": 0,
              "ticks": ""
             }
            },
            "type": "scattermapbox"
           }
          ],
          "scatterpolar": [
           {
            "marker": {
             "colorbar": {
              "outlinewidth": 0,
              "ticks": ""
             }
            },
            "type": "scatterpolar"
           }
          ],
          "scatterpolargl": [
           {
            "marker": {
             "colorbar": {
              "outlinewidth": 0,
              "ticks": ""
             }
            },
            "type": "scatterpolargl"
           }
          ],
          "scatterternary": [
           {
            "marker": {
             "colorbar": {
              "outlinewidth": 0,
              "ticks": ""
             }
            },
            "type": "scatterternary"
           }
          ],
          "surface": [
           {
            "colorbar": {
             "outlinewidth": 0,
             "ticks": ""
            },
            "colorscale": [
             [
              0,
              "#0d0887"
             ],
             [
              0.1111111111111111,
              "#46039f"
             ],
             [
              0.2222222222222222,
              "#7201a8"
             ],
             [
              0.3333333333333333,
              "#9c179e"
             ],
             [
              0.4444444444444444,
              "#bd3786"
             ],
             [
              0.5555555555555556,
              "#d8576b"
             ],
             [
              0.6666666666666666,
              "#ed7953"
             ],
             [
              0.7777777777777778,
              "#fb9f3a"
             ],
             [
              0.8888888888888888,
              "#fdca26"
             ],
             [
              1,
              "#f0f921"
             ]
            ],
            "type": "surface"
           }
          ],
          "table": [
           {
            "cells": {
             "fill": {
              "color": "#EBF0F8"
             },
             "line": {
              "color": "white"
             }
            },
            "header": {
             "fill": {
              "color": "#C8D4E3"
             },
             "line": {
              "color": "white"
             }
            },
            "type": "table"
           }
          ]
         },
         "layout": {
          "annotationdefaults": {
           "arrowcolor": "#2a3f5f",
           "arrowhead": 0,
           "arrowwidth": 1
          },
          "autotypenumbers": "strict",
          "coloraxis": {
           "colorbar": {
            "outlinewidth": 0,
            "ticks": ""
           }
          },
          "colorscale": {
           "diverging": [
            [
             0,
             "#8e0152"
            ],
            [
             0.1,
             "#c51b7d"
            ],
            [
             0.2,
             "#de77ae"
            ],
            [
             0.3,
             "#f1b6da"
            ],
            [
             0.4,
             "#fde0ef"
            ],
            [
             0.5,
             "#f7f7f7"
            ],
            [
             0.6,
             "#e6f5d0"
            ],
            [
             0.7,
             "#b8e186"
            ],
            [
             0.8,
             "#7fbc41"
            ],
            [
             0.9,
             "#4d9221"
            ],
            [
             1,
             "#276419"
            ]
           ],
           "sequential": [
            [
             0,
             "#0d0887"
            ],
            [
             0.1111111111111111,
             "#46039f"
            ],
            [
             0.2222222222222222,
             "#7201a8"
            ],
            [
             0.3333333333333333,
             "#9c179e"
            ],
            [
             0.4444444444444444,
             "#bd3786"
            ],
            [
             0.5555555555555556,
             "#d8576b"
            ],
            [
             0.6666666666666666,
             "#ed7953"
            ],
            [
             0.7777777777777778,
             "#fb9f3a"
            ],
            [
             0.8888888888888888,
             "#fdca26"
            ],
            [
             1,
             "#f0f921"
            ]
           ],
           "sequentialminus": [
            [
             0,
             "#0d0887"
            ],
            [
             0.1111111111111111,
             "#46039f"
            ],
            [
             0.2222222222222222,
             "#7201a8"
            ],
            [
             0.3333333333333333,
             "#9c179e"
            ],
            [
             0.4444444444444444,
             "#bd3786"
            ],
            [
             0.5555555555555556,
             "#d8576b"
            ],
            [
             0.6666666666666666,
             "#ed7953"
            ],
            [
             0.7777777777777778,
             "#fb9f3a"
            ],
            [
             0.8888888888888888,
             "#fdca26"
            ],
            [
             1,
             "#f0f921"
            ]
           ]
          },
          "colorway": [
           "#636efa",
           "#EF553B",
           "#00cc96",
           "#ab63fa",
           "#FFA15A",
           "#19d3f3",
           "#FF6692",
           "#B6E880",
           "#FF97FF",
           "#FECB52"
          ],
          "font": {
           "color": "#2a3f5f"
          },
          "geo": {
           "bgcolor": "white",
           "lakecolor": "white",
           "landcolor": "#E5ECF6",
           "showlakes": true,
           "showland": true,
           "subunitcolor": "white"
          },
          "hoverlabel": {
           "align": "left"
          },
          "hovermode": "closest",
          "mapbox": {
           "style": "light"
          },
          "paper_bgcolor": "white",
          "plot_bgcolor": "#E5ECF6",
          "polar": {
           "angularaxis": {
            "gridcolor": "white",
            "linecolor": "white",
            "ticks": ""
           },
           "bgcolor": "#E5ECF6",
           "radialaxis": {
            "gridcolor": "white",
            "linecolor": "white",
            "ticks": ""
           }
          },
          "scene": {
           "xaxis": {
            "backgroundcolor": "#E5ECF6",
            "gridcolor": "white",
            "gridwidth": 2,
            "linecolor": "white",
            "showbackground": true,
            "ticks": "",
            "zerolinecolor": "white"
           },
           "yaxis": {
            "backgroundcolor": "#E5ECF6",
            "gridcolor": "white",
            "gridwidth": 2,
            "linecolor": "white",
            "showbackground": true,
            "ticks": "",
            "zerolinecolor": "white"
           },
           "zaxis": {
            "backgroundcolor": "#E5ECF6",
            "gridcolor": "white",
            "gridwidth": 2,
            "linecolor": "white",
            "showbackground": true,
            "ticks": "",
            "zerolinecolor": "white"
           }
          },
          "shapedefaults": {
           "line": {
            "color": "#2a3f5f"
           }
          },
          "ternary": {
           "aaxis": {
            "gridcolor": "white",
            "linecolor": "white",
            "ticks": ""
           },
           "baxis": {
            "gridcolor": "white",
            "linecolor": "white",
            "ticks": ""
           },
           "bgcolor": "#E5ECF6",
           "caxis": {
            "gridcolor": "white",
            "linecolor": "white",
            "ticks": ""
           }
          },
          "title": {
           "x": 0.05
          },
          "xaxis": {
           "automargin": true,
           "gridcolor": "white",
           "linecolor": "white",
           "ticks": "",
           "title": {
            "standoff": 15
           },
           "zerolinecolor": "white",
           "zerolinewidth": 2
          },
          "yaxis": {
           "automargin": true,
           "gridcolor": "white",
           "linecolor": "white",
           "ticks": "",
           "title": {
            "standoff": 15
           },
           "zerolinecolor": "white",
           "zerolinewidth": 2
          }
         }
        },
        "xaxis": {
         "anchor": "y",
         "domain": [
          0,
          0.94
         ]
        },
        "yaxis": {
         "anchor": "x",
         "domain": [
          0,
          1
         ]
        },
        "yaxis2": {
         "anchor": "x",
         "overlaying": "y",
         "side": "right"
        }
       }
      }
     },
     "metadata": {},
     "output_type": "display_data"
    },
    {
     "name": "stdout",
     "output_type": "stream",
     "text": [
      "Overall Accuracy Score: 0.8250922509225093\n",
      "Macro Accuracy: 0.8266742666852317\n",
      "Class-wise accuracy: \n",
      "[[0.8587963  0.1087963  0.03240741]\n",
      " [0.15578947 0.76631579 0.07789474]\n",
      " [0.05803571 0.08705357 0.85491071]]\n"
     ]
    },
    {
     "data": {
      "text/plain": [
       "<sklearn.metrics._plot.confusion_matrix.ConfusionMatrixDisplay at 0x18ca157c0>"
      ]
     },
     "execution_count": 17,
     "metadata": {},
     "output_type": "execute_result"
    },
    {
     "data": {
      "image/png": "[encoded data removed]",
      "text/plain": [
       "<Figure size 432x288 with 2 Axes>"
      ]
     },
     "metadata": {
      "needs_background": "light"
     },
     "output_type": "display_data"
    }
   ],
   "source": [
    "model=train_models(X_train,y_train_hot,X_valid,y_valid_hot,epochs=100,batch_size=1024,lr=0.0001,layer1_nodes=512,optimiser='adam',loss='crossentropy',verbose=0,save=False)\n",
    "y_pred=model.predict(X_test)\n",
    "y_pred[np.where(y_pred==np.max(y_pred))] = 1\n",
    "y_pred=np.argmax(y_pred,axis=1)\n",
    "cm,acc,f1,macro_acc,classwise_acc = eval_metrics(y_test,y_pred)\n",
    "\n",
    "print(f\"Overall Accuracy Score: {acc}\")\n",
    "print(f\"Macro Accuracy: {macro_acc}\")\n",
    "print(f\"Class-wise accuracy: \\n{classwise_acc}\")\n",
    "l=labels.values()\n",
    "ConfusionMatrixDisplay(confusion_matrix=cm,display_labels=l).plot()"
   ]
  },
  {
   "cell_type": "code",
   "execution_count": null,
   "metadata": {},
   "outputs": [],
   "source": []
  }
 ],
 "metadata": {
  "interpreter": {
   "hash": "aee8b7b246df8f9039afb4144a1f6fd8d2ca17a180786b69acc140d282b71a49"
  },
  "kernelspec": {
   "display_name": "Python 3.9.7 64-bit",
   "language": "python",
   "name": "python3"
  },
  "language_info": {
   "codemirror_mode": {
    "name": "ipython",
    "version": 3
   },
   "file_extension": ".py",
   "mimetype": "text/x-python",
   "name": "python",
   "nbconvert_exporter": "python",
   "pygments_lexer": "ipython3",
   "version": "3.9.7"
  },
  "orig_nbformat": 4
 },
 "nbformat": 4,
 "nbformat_minor": 2
}
