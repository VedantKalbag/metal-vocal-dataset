{
 "cells": [
  {
   "cell_type": "code",
   "execution_count": 22,
   "metadata": {},
   "outputs": [],
   "source": [
    "import tensorflow.keras\n",
    "from tensorflow.keras.models import Sequential\n",
    "from tensorflow.keras.layers import Dense, Dropout, Flatten\n",
    "from tensorflow.keras.layers import Conv2D, MaxPooling2D\n",
    "from tensorflow.keras import backend as K\n",
    "from tensorflow.keras.utils import to_categorical\n",
    "import plotly.graph_objs as go\n",
    "from plotly.subplots import make_subplots\n",
    "\n",
    "import pandas as pd\n",
    "from sklearn.utils import shuffle\n",
    "\n",
    "from sys import platform\n",
    "if platform == \"linux\" or platform == \"linux2\":\n",
    "    # linux\n",
    "    path='/home/vkalbag/projects/'\n",
    "elif platform == \"darwin\":\n",
    "    # OS X\n",
    "    path='/Users/vedant/Desktop/Programming/'\n",
    "import numpy as np\n",
    "\n",
    "\n",
    "x_train=np.load(f'{path}ScreamDetection/FINAL/working_data_final/x_train-rawaudio.npy',allow_pickle = True)\n",
    "y_train=np.argmax(np.load(f'{path}ScreamDetection/FINAL/working_data_final/y_train-rawaudio.npy',allow_pickle = True),axis=1)\n",
    "\n",
    "x_test=np.load(f'{path}ScreamDetection/FINAL/working_data_final/x_test-rawaudio.npy',allow_pickle = True)\n",
    "y_test=np.argmax(np.load(f'{path}ScreamDetection/FINAL/working_data_final/y_test-rawaudio.npy',allow_pickle = True),axis=1)\n",
    "\n",
    "x_valid=np.load(f'{path}ScreamDetection/FINAL/working_data_final/x_valid-rawaudio.npy',allow_pickle = True)\n",
    "y_valid=np.argmax(np.load(f'{path}ScreamDetection/FINAL/working_data_final/y_valid-rawaudio.npy',allow_pickle = True),axis=1)\n",
    "\n",
    "\n",
    "y_train_hot = to_categorical(y_train)\n",
    "y_test_hot = to_categorical(y_test)\n",
    "y_valid_hot = to_categorical(y_valid)"
   ]
  },
  {
   "cell_type": "code",
   "execution_count": 23,
   "metadata": {},
   "outputs": [],
   "source": [
    "import librosa"
   ]
  },
  {
   "cell_type": "code",
   "execution_count": 24,
   "metadata": {},
   "outputs": [],
   "source": [
    "X_train = []\n",
    "X_test = []\n",
    "X_valid=[]\n",
    "for y1 in x_train:\n",
    "    X_train.append(librosa.power_to_db(librosa.feature.melspectrogram(y=y1, sr=44100)))\n",
    "for y2 in x_test:\n",
    "    X_test.append(librosa.power_to_db(librosa.feature.melspectrogram(y=y2, sr=44100)))\n",
    "for y3 in x_valid:\n",
    "    X_valid.append(librosa.power_to_db(librosa.feature.melspectrogram(y=y3, sr=44100)))\n",
    "\n"
   ]
  },
  {
   "cell_type": "code",
   "execution_count": 25,
   "metadata": {},
   "outputs": [],
   "source": [
    "X_train = np.array(X_train)\n",
    "X_test = np.array(X_test)\n",
    "X_valid = np.array(X_valid)\n",
    "\n",
    "X_train = X_train.reshape(X_train.shape[0], 128, 87, 1)\n",
    "X_test = X_test.reshape(X_test.shape[0], 128, 87, 1)\n",
    "X_valid = X_valid.reshape(X_valid.shape[0], 128, 87, 1)\n",
    "\n",
    "X_train,y_train=shuffle(X_train,y_train_hot)\n",
    "X_test,y_test=shuffle(X_test,y_test_hot)\n",
    "X_valid,y_valid=shuffle(X_valid,y_valid_hot)"
   ]
  },
  {
   "cell_type": "code",
   "execution_count": 26,
   "metadata": {},
   "outputs": [],
   "source": [
    "import tensorflow as tf\n",
    "config = tf.compat.v1.ConfigProto()\n",
    "config.gpu_options.per_process_gpu_memory_fraction = 0.3"
   ]
  },
  {
   "cell_type": "code",
   "execution_count": null,
   "metadata": {},
   "outputs": [],
   "source": [
    "# model\n",
    "model = Sequential()\n",
    "kernel=(2,2)\n",
    "input_shape = (128, 87, 1)\n",
    "model.add(Conv2D(512, kernel_size=kernel, activation='relu', input_shape=input_shape, kernel_regularizer=tf.keras.regularizers.l2(l=0.01)))\n",
    "model.add(MaxPooling2D(pool_size=kernel))\n",
    "\n",
    "model.add(Dropout(0.25))\n",
    "\n",
    "# model.add(Conv2D(512, kernel_size=kernel, activation='relu', input_shape=(512,43,8), kernel_regularizer=tf.keras.regularizers.l2(l=0.01)))\n",
    "# model.add(MaxPooling2D(pool_size=kernel))\n",
    "\n",
    "model.add(Flatten())\n",
    "model.add(Dense(64, activation='relu'))\n",
    "# model.add(Dropout(0.25))\n",
    "model.add(Dense(3, activation='softmax'))"
   ]
  },
  {
   "cell_type": "code",
   "execution_count": 24,
   "metadata": {},
   "outputs": [
    {
     "name": "stdout",
     "output_type": "stream",
     "text": [
      "Model: \"sequential_3\"\n",
      "_________________________________________________________________\n",
      "Layer (type)                 Output Shape              Param #   \n",
      "=================================================================\n",
      "conv2d_3 (Conv2D)            (None, 127, 86, 512)      2560      \n",
      "_________________________________________________________________\n",
      "max_pooling2d_3 (MaxPooling2 (None, 63, 43, 512)       0         \n",
      "_________________________________________________________________\n",
      "dropout_3 (Dropout)          (None, 63, 43, 512)       0         \n",
      "_________________________________________________________________\n",
      "flatten_3 (Flatten)          (None, 1387008)           0         \n",
      "_________________________________________________________________\n",
      "dense_6 (Dense)              (None, 64)                88768576  \n",
      "_________________________________________________________________\n",
      "dense_7 (Dense)              (None, 3)                 195       \n",
      "=================================================================\n",
      "Total params: 88,771,331\n",
      "Trainable params: 88,771,331\n",
      "Non-trainable params: 0\n",
      "_________________________________________________________________\n",
      "Epoch 1/50\n",
      "182/182 [==============================] - 19s 103ms/step - loss: 1.8779 - accuracy: 0.3888 - val_loss: 1.0086 - val_accuracy: 0.5403\n",
      "Epoch 2/50\n",
      "182/182 [==============================] - 19s 102ms/step - loss: 1.1208 - accuracy: 0.5480 - val_loss: 0.8929 - val_accuracy: 0.5961\n",
      "Epoch 3/50\n",
      "182/182 [==============================] - 19s 103ms/step - loss: 0.9684 - accuracy: 0.6093 - val_loss: 0.8388 - val_accuracy: 0.6240\n",
      "Epoch 4/50\n",
      "182/182 [==============================] - 19s 104ms/step - loss: 0.8908 - accuracy: 0.6470 - val_loss: 0.7971 - val_accuracy: 0.6405\n",
      "Epoch 5/50\n",
      "182/182 [==============================] - 19s 104ms/step - loss: 0.8435 - accuracy: 0.6689 - val_loss: 0.8014 - val_accuracy: 0.6481\n",
      "Epoch 6/50\n",
      "182/182 [==============================] - 19s 104ms/step - loss: 0.7794 - accuracy: 0.6949 - val_loss: 0.7780 - val_accuracy: 0.6669\n",
      "Epoch 7/50\n",
      "182/182 [==============================] - 19s 104ms/step - loss: 0.7798 - accuracy: 0.6982 - val_loss: 0.7556 - val_accuracy: 0.6790\n",
      "Epoch 8/50\n",
      "182/182 [==============================] - 19s 105ms/step - loss: 0.7196 - accuracy: 0.7192 - val_loss: 0.7254 - val_accuracy: 0.6910\n",
      "Epoch 9/50\n",
      "182/182 [==============================] - 19s 105ms/step - loss: 0.7133 - accuracy: 0.7274 - val_loss: 0.7054 - val_accuracy: 0.7008\n",
      "Epoch 10/50\n",
      "182/182 [==============================] - 19s 104ms/step - loss: 0.6885 - accuracy: 0.7433 - val_loss: 0.7244 - val_accuracy: 0.6993\n",
      "Epoch 11/50\n",
      "182/182 [==============================] - 19s 105ms/step - loss: 0.6530 - accuracy: 0.7524 - val_loss: 0.7031 - val_accuracy: 0.7061\n",
      "Epoch 12/50\n",
      "182/182 [==============================] - 19s 105ms/step - loss: 0.6430 - accuracy: 0.7621 - val_loss: 0.6943 - val_accuracy: 0.7091\n",
      "Epoch 13/50\n",
      "182/182 [==============================] - 19s 105ms/step - loss: 0.6596 - accuracy: 0.7571 - val_loss: 0.6961 - val_accuracy: 0.7121\n",
      "Epoch 14/50\n",
      "182/182 [==============================] - 19s 104ms/step - loss: 0.6283 - accuracy: 0.7679 - val_loss: 0.7108 - val_accuracy: 0.7144\n",
      "Epoch 15/50\n",
      "182/182 [==============================] - 19s 104ms/step - loss: 0.6069 - accuracy: 0.7748 - val_loss: 0.6990 - val_accuracy: 0.7204\n",
      "Epoch 16/50\n",
      "182/182 [==============================] - 19s 105ms/step - loss: 0.6015 - accuracy: 0.7736 - val_loss: 0.6584 - val_accuracy: 0.7400\n",
      "Epoch 17/50\n",
      "182/182 [==============================] - 19s 104ms/step - loss: 0.5999 - accuracy: 0.7779 - val_loss: 0.6635 - val_accuracy: 0.7400\n",
      "Epoch 18/50\n",
      "182/182 [==============================] - 19s 104ms/step - loss: 0.5883 - accuracy: 0.7863 - val_loss: 0.6480 - val_accuracy: 0.7498\n",
      "Epoch 19/50\n",
      "182/182 [==============================] - 19s 105ms/step - loss: 0.5879 - accuracy: 0.7894 - val_loss: 0.6715 - val_accuracy: 0.7408\n",
      "Epoch 20/50\n",
      "182/182 [==============================] - 19s 105ms/step - loss: 0.5746 - accuracy: 0.7917 - val_loss: 0.6579 - val_accuracy: 0.7506\n",
      "Epoch 21/50\n",
      "182/182 [==============================] - 19s 104ms/step - loss: 0.5676 - accuracy: 0.7925 - val_loss: 0.6440 - val_accuracy: 0.7558\n",
      "Epoch 22/50\n",
      "182/182 [==============================] - 19s 104ms/step - loss: 0.5529 - accuracy: 0.7998 - val_loss: 0.6470 - val_accuracy: 0.7536\n",
      "Epoch 23/50\n",
      "182/182 [==============================] - 19s 105ms/step - loss: 0.5415 - accuracy: 0.8075 - val_loss: 0.6314 - val_accuracy: 0.7604\n",
      "Epoch 24/50\n",
      "182/182 [==============================] - 19s 104ms/step - loss: 0.5630 - accuracy: 0.7975 - val_loss: 0.6300 - val_accuracy: 0.7581\n",
      "Epoch 25/50\n",
      "182/182 [==============================] - 19s 104ms/step - loss: 0.5241 - accuracy: 0.8096 - val_loss: 0.6347 - val_accuracy: 0.7581\n",
      "Epoch 26/50\n",
      "182/182 [==============================] - 19s 105ms/step - loss: 0.5412 - accuracy: 0.8097 - val_loss: 0.6411 - val_accuracy: 0.7551\n",
      "Epoch 27/50\n",
      "182/182 [==============================] - 19s 105ms/step - loss: 0.5321 - accuracy: 0.8085 - val_loss: 0.6359 - val_accuracy: 0.7604\n",
      "Epoch 28/50\n",
      "182/182 [==============================] - 19s 104ms/step - loss: 0.5271 - accuracy: 0.8082 - val_loss: 0.6261 - val_accuracy: 0.7649\n",
      "Epoch 29/50\n",
      "182/182 [==============================] - 19s 104ms/step - loss: 0.5149 - accuracy: 0.8166 - val_loss: 0.6256 - val_accuracy: 0.7641\n",
      "Epoch 30/50\n",
      "182/182 [==============================] - 19s 105ms/step - loss: 0.5213 - accuracy: 0.8163 - val_loss: 0.6298 - val_accuracy: 0.7626\n",
      "Epoch 31/50\n",
      "182/182 [==============================] - 19s 104ms/step - loss: 0.5131 - accuracy: 0.8116 - val_loss: 0.6200 - val_accuracy: 0.7671\n",
      "Epoch 32/50\n",
      "182/182 [==============================] - 19s 104ms/step - loss: 0.5144 - accuracy: 0.8149 - val_loss: 0.6319 - val_accuracy: 0.7581\n",
      "Epoch 33/50\n",
      "182/182 [==============================] - 19s 104ms/step - loss: 0.4918 - accuracy: 0.8197 - val_loss: 0.6206 - val_accuracy: 0.7611\n",
      "Epoch 34/50\n",
      "182/182 [==============================] - 19s 104ms/step - loss: 0.4893 - accuracy: 0.8308 - val_loss: 0.5970 - val_accuracy: 0.7732\n",
      "Epoch 35/50\n",
      "182/182 [==============================] - 19s 104ms/step - loss: 0.4892 - accuracy: 0.8306 - val_loss: 0.6036 - val_accuracy: 0.7724\n",
      "Epoch 36/50\n",
      "182/182 [==============================] - 19s 104ms/step - loss: 0.4865 - accuracy: 0.8295 - val_loss: 0.6064 - val_accuracy: 0.7739\n",
      "Epoch 37/50\n",
      "182/182 [==============================] - 19s 105ms/step - loss: 0.4947 - accuracy: 0.8292 - val_loss: 0.6186 - val_accuracy: 0.7664\n",
      "Epoch 38/50\n",
      "182/182 [==============================] - 19s 105ms/step - loss: 0.4873 - accuracy: 0.8275 - val_loss: 0.5864 - val_accuracy: 0.7762\n",
      "Epoch 39/50\n",
      "182/182 [==============================] - 19s 104ms/step - loss: 0.4818 - accuracy: 0.8301 - val_loss: 0.5846 - val_accuracy: 0.7762\n",
      "Epoch 40/50\n",
      "182/182 [==============================] - 19s 104ms/step - loss: 0.4703 - accuracy: 0.8316 - val_loss: 0.5862 - val_accuracy: 0.7762\n",
      "Epoch 41/50\n",
      "182/182 [==============================] - 19s 105ms/step - loss: 0.4803 - accuracy: 0.8278 - val_loss: 0.5878 - val_accuracy: 0.7792\n",
      "Epoch 42/50\n",
      "182/182 [==============================] - 19s 105ms/step - loss: 0.4865 - accuracy: 0.8323 - val_loss: 0.5815 - val_accuracy: 0.7784\n",
      "Epoch 43/50\n",
      "182/182 [==============================] - 19s 104ms/step - loss: 0.4746 - accuracy: 0.8356 - val_loss: 0.5887 - val_accuracy: 0.7784\n",
      "Epoch 44/50\n",
      "182/182 [==============================] - 19s 104ms/step - loss: 0.4674 - accuracy: 0.8352 - val_loss: 0.5907 - val_accuracy: 0.7807\n",
      "Epoch 45/50\n",
      "182/182 [==============================] - 19s 105ms/step - loss: 0.4700 - accuracy: 0.8388 - val_loss: 0.5760 - val_accuracy: 0.7807\n",
      "Epoch 46/50\n",
      "182/182 [==============================] - 19s 104ms/step - loss: 0.4689 - accuracy: 0.8320 - val_loss: 0.5895 - val_accuracy: 0.7792\n",
      "Epoch 47/50\n",
      "182/182 [==============================] - 19s 104ms/step - loss: 0.4661 - accuracy: 0.8354 - val_loss: 0.5676 - val_accuracy: 0.7837\n",
      "Epoch 48/50\n",
      "182/182 [==============================] - 19s 105ms/step - loss: 0.4615 - accuracy: 0.8359 - val_loss: 0.5757 - val_accuracy: 0.7830\n",
      "Epoch 49/50\n",
      "182/182 [==============================] - 19s 105ms/step - loss: 0.4532 - accuracy: 0.8423 - val_loss: 0.5714 - val_accuracy: 0.7830\n",
      "Epoch 50/50\n",
      "182/182 [==============================] - 19s 104ms/step - loss: 0.4580 - accuracy: 0.8361 - val_loss: 0.5689 - val_accuracy: 0.7875\n",
      "INFO:tensorflow:Assets written to: /home/vkalbag/projects/ScreamDetection/CNN/trained_models/cnn64dense_kernel_2x2_batch-32_epochs_50_lr_1e-05_adadelta/assets\n"
     ]
    },
    {
     "data": {
      "application/vnd.plotly.v1+json": {
       "config": {
        "plotlyServerURL": "https://plot.ly"
       },
       "data": [
        {
         "name": "Training Loss",
         "type": "scatter",
         "x": [
          0,
          1,
          2,
          3,
          4,
          5,
          6,
          7,
          8,
          9,
          10,
          11,
          12,
          13,
          14,
          15,
          16,
          17,
          18,
          19,
          20,
          21,
          22,
          23,
          24,
          25,
          26,
          27,
          28,
          29,
          30,
          31,
          32,
          33,
          34,
          35,
          36,
          37,
          38,
          39,
          40,
          41,
          42,
          43,
          44,
          45,
          46,
          47,
          48,
          49
         ],
         "y": [
          1.8778935670852661,
          1.120841383934021,
          0.9684471487998962,
          0.8908036351203918,
          0.8435029983520508,
          0.7793796062469482,
          0.779801070690155,
          0.7196380496025085,
          0.7133488655090332,
          0.688531219959259,
          0.6529520750045776,
          0.6429855823516846,
          0.6596347689628601,
          0.6282532215118408,
          0.6068994998931885,
          0.6015012860298157,
          0.5998883247375488,
          0.5882794260978699,
          0.5879020094871521,
          0.5746108889579773,
          0.5675854086875916,
          0.5529439449310303,
          0.5415021181106567,
          0.5629652142524719,
          0.5241074562072754,
          0.5412338972091675,
          0.5321385264396667,
          0.5270605087280273,
          0.5148714780807495,
          0.5212942361831665,
          0.5131176710128784,
          0.5143775343894958,
          0.49176114797592163,
          0.4893215000629425,
          0.48918989300727844,
          0.48650455474853516,
          0.49474772810935974,
          0.4872889220714569,
          0.4818054735660553,
          0.47034692764282227,
          0.4803425967693329,
          0.48648151755332947,
          0.4745941460132599,
          0.46736544370651245,
          0.47000348567962646,
          0.4689309895038605,
          0.46609658002853394,
          0.46146225929260254,
          0.45315268635749817,
          0.45801112055778503
         ]
        },
        {
         "name": "Validation Loss",
         "type": "scatter",
         "x": [
          0,
          1,
          2,
          3,
          4,
          5,
          6,
          7,
          8,
          9,
          10,
          11,
          12,
          13,
          14,
          15,
          16,
          17,
          18,
          19,
          20,
          21,
          22,
          23,
          24,
          25,
          26,
          27,
          28,
          29,
          30,
          31,
          32,
          33,
          34,
          35,
          36,
          37,
          38,
          39,
          40,
          41,
          42,
          43,
          44,
          45,
          46,
          47,
          48,
          49
         ],
         "y": [
          1.0086181163787842,
          0.8929213285446167,
          0.8388000130653381,
          0.7970759868621826,
          0.8013765811920166,
          0.7780267596244812,
          0.7555540800094604,
          0.7254476547241211,
          0.7054386138916016,
          0.7243940234184265,
          0.7031360864639282,
          0.6942729949951172,
          0.6960617899894714,
          0.7108471989631653,
          0.6989936232566833,
          0.6583682894706726,
          0.6635491847991943,
          0.6480244398117065,
          0.6714739203453064,
          0.6579186320304871,
          0.6440152525901794,
          0.6469643712043762,
          0.6313654780387878,
          0.6299663782119751,
          0.6347342133522034,
          0.6411385536193848,
          0.6358872056007385,
          0.6260548830032349,
          0.6255500912666321,
          0.6298414468765259,
          0.6199824213981628,
          0.6318778395652771,
          0.6205793619155884,
          0.5969561338424683,
          0.6035704612731934,
          0.6064362525939941,
          0.6186330914497375,
          0.5863592028617859,
          0.5845511555671692,
          0.5862026810646057,
          0.5878334641456604,
          0.5815021991729736,
          0.5887373089790344,
          0.5907493829727173,
          0.5760415196418762,
          0.5894833207130432,
          0.5676324367523193,
          0.5757458209991455,
          0.5714226365089417,
          0.5688862204551697
         ]
        },
        {
         "name": "Training Accuracy",
         "type": "scatter",
         "x": [
          0,
          1,
          2,
          3,
          4,
          5,
          6,
          7,
          8,
          9,
          10,
          11,
          12,
          13,
          14,
          15,
          16,
          17,
          18,
          19,
          20,
          21,
          22,
          23,
          24,
          25,
          26,
          27,
          28,
          29,
          30,
          31,
          32,
          33,
          34,
          35,
          36,
          37,
          38,
          39,
          40,
          41,
          42,
          43,
          44,
          45,
          46,
          47,
          48,
          49
         ],
         "xaxis": "x",
         "y": [
          0.3887740969657898,
          0.5480371713638306,
          0.6093319654464722,
          0.6470385789871216,
          0.6689049601554871,
          0.694903552532196,
          0.6981749534606934,
          0.7191804647445679,
          0.7274448871612549,
          0.7432851195335388,
          0.7524104714393616,
          0.7620523571968079,
          0.7570592164993286,
          0.7679063081741333,
          0.7747933864593506,
          0.7735881805419922,
          0.7778925895690918,
          0.7863292098045349,
          0.7894283533096313,
          0.7916666865348816,
          0.7925275564193726,
          0.7997589707374573,
          0.8075068593025208,
          0.797520637512207,
          0.8095729947090149,
          0.809745192527771,
          0.8085399270057678,
          0.8081955909729004,
          0.8166322112083435,
          0.8162878751754761,
          0.811639130115509,
          0.8149104714393616,
          0.8197314143180847,
          0.8307507038116455,
          0.8305785059928894,
          0.8295454382896423,
          0.8292011022567749,
          0.827479362487793,
          0.8300619721412659,
          0.8316115736961365,
          0.8278236985206604,
          0.8323002457618713,
          0.8355716466903687,
          0.8352272510528564,
          0.8388429880142212,
          0.8319559097290039,
          0.8353994488716125,
          0.8359159827232361,
          0.8422865271568298,
          0.8360881805419922
         ],
         "yaxis": "y2"
        },
        {
         "name": "Validation Accuracy",
         "type": "scatter",
         "x": [
          0,
          1,
          2,
          3,
          4,
          5,
          6,
          7,
          8,
          9,
          10,
          11,
          12,
          13,
          14,
          15,
          16,
          17,
          18,
          19,
          20,
          21,
          22,
          23,
          24,
          25,
          26,
          27,
          28,
          29,
          30,
          31,
          32,
          33,
          34,
          35,
          36,
          37,
          38,
          39,
          40,
          41,
          42,
          43,
          44,
          45,
          46,
          47,
          48,
          49
         ],
         "xaxis": "x",
         "y": [
          0.5403165221214294,
          0.5960813760757446,
          0.6239638328552246,
          0.6405425667762756,
          0.6480783820152283,
          0.6669178605079651,
          0.6789751052856445,
          0.6910324096679688,
          0.7008289098739624,
          0.6993218064308167,
          0.7061039805412292,
          0.7091183066368103,
          0.7121326327323914,
          0.7143933773040771,
          0.7204220294952393,
          0.7400150895118713,
          0.7400150895118713,
          0.749811589717865,
          0.7407686710357666,
          0.7505651712417603,
          0.7558402419090271,
          0.7535794973373413,
          0.7603617310523987,
          0.7581009864807129,
          0.7581009864807129,
          0.7550866603851318,
          0.7603617310523987,
          0.7648832201957703,
          0.764129638671875,
          0.7626224756240845,
          0.7671439051628113,
          0.7581009864807129,
          0.761115312576294,
          0.7731725573539734,
          0.7724189758300781,
          0.7739261388778687,
          0.7663903832435608,
          0.7761868834495544,
          0.7761868834495544,
          0.7761868834495544,
          0.7792012095451355,
          0.7784476280212402,
          0.7784476280212402,
          0.780708372592926,
          0.780708372592926,
          0.7792012095451355,
          0.7837226986885071,
          0.7829691171646118,
          0.7829691171646118,
          0.7874906063079834
         ],
         "yaxis": "y2"
        }
       ],
       "layout": {
        "template": {
         "data": {
          "bar": [
           {
            "error_x": {
             "color": "#2a3f5f"
            },
            "error_y": {
             "color": "#2a3f5f"
            },
            "marker": {
             "line": {
              "color": "#E5ECF6",
              "width": 0.5
             },
             "pattern": {
              "fillmode": "overlay",
              "size": 10,
              "solidity": 0.2
             }
            },
            "type": "bar"
           }
          ],
          "barpolar": [
           {
            "marker": {
             "line": {
              "color": "#E5ECF6",
              "width": 0.5
             },
             "pattern": {
              "fillmode": "overlay",
              "size": 10,
              "solidity": 0.2
             }
            },
            "type": "barpolar"
           }
          ],
          "carpet": [
           {
            "aaxis": {
             "endlinecolor": "#2a3f5f",
             "gridcolor": "white",
             "linecolor": "white",
             "minorgridcolor": "white",
             "startlinecolor": "#2a3f5f"
            },
            "baxis": {
             "endlinecolor": "#2a3f5f",
             "gridcolor": "white",
             "linecolor": "white",
             "minorgridcolor": "white",
             "startlinecolor": "#2a3f5f"
            },
            "type": "carpet"
           }
          ],
          "choropleth": [
           {
            "colorbar": {
             "outlinewidth": 0,
             "ticks": ""
            },
            "type": "choropleth"
           }
          ],
          "contour": [
           {
            "colorbar": {
             "outlinewidth": 0,
             "ticks": ""
            },
            "colorscale": [
             [
              0,
              "#0d0887"
             ],
             [
              0.1111111111111111,
              "#46039f"
             ],
             [
              0.2222222222222222,
              "#7201a8"
             ],
             [
              0.3333333333333333,
              "#9c179e"
             ],
             [
              0.4444444444444444,
              "#bd3786"
             ],
             [
              0.5555555555555556,
              "#d8576b"
             ],
             [
              0.6666666666666666,
              "#ed7953"
             ],
             [
              0.7777777777777778,
              "#fb9f3a"
             ],
             [
              0.8888888888888888,
              "#fdca26"
             ],
             [
              1,
              "#f0f921"
             ]
            ],
            "type": "contour"
           }
          ],
          "contourcarpet": [
           {
            "colorbar": {
             "outlinewidth": 0,
             "ticks": ""
            },
            "type": "contourcarpet"
           }
          ],
          "heatmap": [
           {
            "colorbar": {
             "outlinewidth": 0,
             "ticks": ""
            },
            "colorscale": [
             [
              0,
              "#0d0887"
             ],
             [
              0.1111111111111111,
              "#46039f"
             ],
             [
              0.2222222222222222,
              "#7201a8"
             ],
             [
              0.3333333333333333,
              "#9c179e"
             ],
             [
              0.4444444444444444,
              "#bd3786"
             ],
             [
              0.5555555555555556,
              "#d8576b"
             ],
             [
              0.6666666666666666,
              "#ed7953"
             ],
             [
              0.7777777777777778,
              "#fb9f3a"
             ],
             [
              0.8888888888888888,
              "#fdca26"
             ],
             [
              1,
              "#f0f921"
             ]
            ],
            "type": "heatmap"
           }
          ],
          "heatmapgl": [
           {
            "colorbar": {
             "outlinewidth": 0,
             "ticks": ""
            },
            "colorscale": [
             [
              0,
              "#0d0887"
             ],
             [
              0.1111111111111111,
              "#46039f"
             ],
             [
              0.2222222222222222,
              "#7201a8"
             ],
             [
              0.3333333333333333,
              "#9c179e"
             ],
             [
              0.4444444444444444,
              "#bd3786"
             ],
             [
              0.5555555555555556,
              "#d8576b"
             ],
             [
              0.6666666666666666,
              "#ed7953"
             ],
             [
              0.7777777777777778,
              "#fb9f3a"
             ],
             [
              0.8888888888888888,
              "#fdca26"
             ],
             [
              1,
              "#f0f921"
             ]
            ],
            "type": "heatmapgl"
           }
          ],
          "histogram": [
           {
            "marker": {
             "pattern": {
              "fillmode": "overlay",
              "size": 10,
              "solidity": 0.2
             }
            },
            "type": "histogram"
           }
          ],
          "histogram2d": [
           {
            "colorbar": {
             "outlinewidth": 0,
             "ticks": ""
            },
            "colorscale": [
             [
              0,
              "#0d0887"
             ],
             [
              0.1111111111111111,
              "#46039f"
             ],
             [
              0.2222222222222222,
              "#7201a8"
             ],
             [
              0.3333333333333333,
              "#9c179e"
             ],
             [
              0.4444444444444444,
              "#bd3786"
             ],
             [
              0.5555555555555556,
              "#d8576b"
             ],
             [
              0.6666666666666666,
              "#ed7953"
             ],
             [
              0.7777777777777778,
              "#fb9f3a"
             ],
             [
              0.8888888888888888,
              "#fdca26"
             ],
             [
              1,
              "#f0f921"
             ]
            ],
            "type": "histogram2d"
           }
          ],
          "histogram2dcontour": [
           {
            "colorbar": {
             "outlinewidth": 0,
             "ticks": ""
            },
            "colorscale": [
             [
              0,
              "#0d0887"
             ],
             [
              0.1111111111111111,
              "#46039f"
             ],
             [
              0.2222222222222222,
              "#7201a8"
             ],
             [
              0.3333333333333333,
              "#9c179e"
             ],
             [
              0.4444444444444444,
              "#bd3786"
             ],
             [
              0.5555555555555556,
              "#d8576b"
             ],
             [
              0.6666666666666666,
              "#ed7953"
             ],
             [
              0.7777777777777778,
              "#fb9f3a"
             ],
             [
              0.8888888888888888,
              "#fdca26"
             ],
             [
              1,
              "#f0f921"
             ]
            ],
            "type": "histogram2dcontour"
           }
          ],
          "mesh3d": [
           {
            "colorbar": {
             "outlinewidth": 0,
             "ticks": ""
            },
            "type": "mesh3d"
           }
          ],
          "parcoords": [
           {
            "line": {
             "colorbar": {
              "outlinewidth": 0,
              "ticks": ""
             }
            },
            "type": "parcoords"
           }
          ],
          "pie": [
           {
            "automargin": true,
            "type": "pie"
           }
          ],
          "scatter": [
           {
            "marker": {
             "colorbar": {
              "outlinewidth": 0,
              "ticks": ""
             }
            },
            "type": "scatter"
           }
          ],
          "scatter3d": [
           {
            "line": {
             "colorbar": {
              "outlinewidth": 0,
              "ticks": ""
             }
            },
            "marker": {
             "colorbar": {
              "outlinewidth": 0,
              "ticks": ""
             }
            },
            "type": "scatter3d"
           }
          ],
          "scattercarpet": [
           {
            "marker": {
             "colorbar": {
              "outlinewidth": 0,
              "ticks": ""
             }
            },
            "type": "scattercarpet"
           }
          ],
          "scattergeo": [
           {
            "marker": {
             "colorbar": {
              "outlinewidth": 0,
              "ticks": ""
             }
            },
            "type": "scattergeo"
           }
          ],
          "scattergl": [
           {
            "marker": {
             "colorbar": {
              "outlinewidth": 0,
              "ticks": ""
             }
            },
            "type": "scattergl"
           }
          ],
          "scattermapbox": [
           {
            "marker": {
             "colorbar": {
              "outlinewidth": 0,
              "ticks": ""
             }
            },
            "type": "scattermapbox"
           }
          ],
          "scatterpolar": [
           {
            "marker": {
             "colorbar": {
              "outlinewidth": 0,
              "ticks": ""
             }
            },
            "type": "scatterpolar"
           }
          ],
          "scatterpolargl": [
           {
            "marker": {
             "colorbar": {
              "outlinewidth": 0,
              "ticks": ""
             }
            },
            "type": "scatterpolargl"
           }
          ],
          "scatterternary": [
           {
            "marker": {
             "colorbar": {
              "outlinewidth": 0,
              "ticks": ""
             }
            },
            "type": "scatterternary"
           }
          ],
          "surface": [
           {
            "colorbar": {
             "outlinewidth": 0,
             "ticks": ""
            },
            "colorscale": [
             [
              0,
              "#0d0887"
             ],
             [
              0.1111111111111111,
              "#46039f"
             ],
             [
              0.2222222222222222,
              "#7201a8"
             ],
             [
              0.3333333333333333,
              "#9c179e"
             ],
             [
              0.4444444444444444,
              "#bd3786"
             ],
             [
              0.5555555555555556,
              "#d8576b"
             ],
             [
              0.6666666666666666,
              "#ed7953"
             ],
             [
              0.7777777777777778,
              "#fb9f3a"
             ],
             [
              0.8888888888888888,
              "#fdca26"
             ],
             [
              1,
              "#f0f921"
             ]
            ],
            "type": "surface"
           }
          ],
          "table": [
           {
            "cells": {
             "fill": {
              "color": "#EBF0F8"
             },
             "line": {
              "color": "white"
             }
            },
            "header": {
             "fill": {
              "color": "#C8D4E3"
             },
             "line": {
              "color": "white"
             }
            },
            "type": "table"
           }
          ]
         },
         "layout": {
          "annotationdefaults": {
           "arrowcolor": "#2a3f5f",
           "arrowhead": 0,
           "arrowwidth": 1
          },
          "autotypenumbers": "strict",
          "coloraxis": {
           "colorbar": {
            "outlinewidth": 0,
            "ticks": ""
           }
          },
          "colorscale": {
           "diverging": [
            [
             0,
             "#8e0152"
            ],
            [
             0.1,
             "#c51b7d"
            ],
            [
             0.2,
             "#de77ae"
            ],
            [
             0.3,
             "#f1b6da"
            ],
            [
             0.4,
             "#fde0ef"
            ],
            [
             0.5,
             "#f7f7f7"
            ],
            [
             0.6,
             "#e6f5d0"
            ],
            [
             0.7,
             "#b8e186"
            ],
            [
             0.8,
             "#7fbc41"
            ],
            [
             0.9,
             "#4d9221"
            ],
            [
             1,
             "#276419"
            ]
           ],
           "sequential": [
            [
             0,
             "#0d0887"
            ],
            [
             0.1111111111111111,
             "#46039f"
            ],
            [
             0.2222222222222222,
             "#7201a8"
            ],
            [
             0.3333333333333333,
             "#9c179e"
            ],
            [
             0.4444444444444444,
             "#bd3786"
            ],
            [
             0.5555555555555556,
             "#d8576b"
            ],
            [
             0.6666666666666666,
             "#ed7953"
            ],
            [
             0.7777777777777778,
             "#fb9f3a"
            ],
            [
             0.8888888888888888,
             "#fdca26"
            ],
            [
             1,
             "#f0f921"
            ]
           ],
           "sequentialminus": [
            [
             0,
             "#0d0887"
            ],
            [
             0.1111111111111111,
             "#46039f"
            ],
            [
             0.2222222222222222,
             "#7201a8"
            ],
            [
             0.3333333333333333,
             "#9c179e"
            ],
            [
             0.4444444444444444,
             "#bd3786"
            ],
            [
             0.5555555555555556,
             "#d8576b"
            ],
            [
             0.6666666666666666,
             "#ed7953"
            ],
            [
             0.7777777777777778,
             "#fb9f3a"
            ],
            [
             0.8888888888888888,
             "#fdca26"
            ],
            [
             1,
             "#f0f921"
            ]
           ]
          },
          "colorway": [
           "#636efa",
           "#EF553B",
           "#00cc96",
           "#ab63fa",
           "#FFA15A",
           "#19d3f3",
           "#FF6692",
           "#B6E880",
           "#FF97FF",
           "#FECB52"
          ],
          "font": {
           "color": "#2a3f5f"
          },
          "geo": {
           "bgcolor": "white",
           "lakecolor": "white",
           "landcolor": "#E5ECF6",
           "showlakes": true,
           "showland": true,
           "subunitcolor": "white"
          },
          "hoverlabel": {
           "align": "left"
          },
          "hovermode": "closest",
          "mapbox": {
           "style": "light"
          },
          "paper_bgcolor": "white",
          "plot_bgcolor": "#E5ECF6",
          "polar": {
           "angularaxis": {
            "gridcolor": "white",
            "linecolor": "white",
            "ticks": ""
           },
           "bgcolor": "#E5ECF6",
           "radialaxis": {
            "gridcolor": "white",
            "linecolor": "white",
            "ticks": ""
           }
          },
          "scene": {
           "xaxis": {
            "backgroundcolor": "#E5ECF6",
            "gridcolor": "white",
            "gridwidth": 2,
            "linecolor": "white",
            "showbackground": true,
            "ticks": "",
            "zerolinecolor": "white"
           },
           "yaxis": {
            "backgroundcolor": "#E5ECF6",
            "gridcolor": "white",
            "gridwidth": 2,
            "linecolor": "white",
            "showbackground": true,
            "ticks": "",
            "zerolinecolor": "white"
           },
           "zaxis": {
            "backgroundcolor": "#E5ECF6",
            "gridcolor": "white",
            "gridwidth": 2,
            "linecolor": "white",
            "showbackground": true,
            "ticks": "",
            "zerolinecolor": "white"
           }
          },
          "shapedefaults": {
           "line": {
            "color": "#2a3f5f"
           }
          },
          "ternary": {
           "aaxis": {
            "gridcolor": "white",
            "linecolor": "white",
            "ticks": ""
           },
           "baxis": {
            "gridcolor": "white",
            "linecolor": "white",
            "ticks": ""
           },
           "bgcolor": "#E5ECF6",
           "caxis": {
            "gridcolor": "white",
            "linecolor": "white",
            "ticks": ""
           }
          },
          "title": {
           "x": 0.05
          },
          "xaxis": {
           "automargin": true,
           "gridcolor": "white",
           "linecolor": "white",
           "ticks": "",
           "title": {
            "standoff": 15
           },
           "zerolinecolor": "white",
           "zerolinewidth": 2
          },
          "yaxis": {
           "automargin": true,
           "gridcolor": "white",
           "linecolor": "white",
           "ticks": "",
           "title": {
            "standoff": 15
           },
           "zerolinecolor": "white",
           "zerolinewidth": 2
          }
         }
        },
        "title": {
         "text": "Training Results",
         "x": 0.45
        },
        "xaxis": {
         "anchor": "y",
         "domain": [
          0,
          0.94
         ],
         "title": {
          "text": "Epochs"
         }
        },
        "yaxis": {
         "anchor": "x",
         "domain": [
          0,
          1
         ],
         "title": {
          "text": "Loss"
         }
        },
        "yaxis2": {
         "anchor": "x",
         "overlaying": "y",
         "range": [
          0,
          1
         ],
         "side": "right",
         "title": {
          "text": "Accuracy"
         }
        }
       }
      },
      "text/html": [
       "<div>                            <div id=\"0b833fe1-325f-4cc9-abd7-93a0ea3b34b8\" class=\"plotly-graph-div\" style=\"height:525px; width:100%;\"></div>            <script type=\"text/javascript\">                require([\"plotly\"], function(Plotly) {                    window.PLOTLYENV=window.PLOTLYENV || {};                                    if (document.getElementById(\"0b833fe1-325f-4cc9-abd7-93a0ea3b34b8\")) {                    Plotly.newPlot(                        \"0b833fe1-325f-4cc9-abd7-93a0ea3b34b8\",                        [{\"name\":\"Training Loss\",\"type\":\"scatter\",\"x\":[0,1,2,3,4,5,6,7,8,9,10,11,12,13,14,15,16,17,18,19,20,21,22,23,24,25,26,27,28,29,30,31,32,33,34,35,36,37,38,39,40,41,42,43,44,45,46,47,48,49],\"y\":[1.8778935670852661,1.120841383934021,0.9684471487998962,0.8908036351203918,0.8435029983520508,0.7793796062469482,0.779801070690155,0.7196380496025085,0.7133488655090332,0.688531219959259,0.6529520750045776,0.6429855823516846,0.6596347689628601,0.6282532215118408,0.6068994998931885,0.6015012860298157,0.5998883247375488,0.5882794260978699,0.5879020094871521,0.5746108889579773,0.5675854086875916,0.5529439449310303,0.5415021181106567,0.5629652142524719,0.5241074562072754,0.5412338972091675,0.5321385264396667,0.5270605087280273,0.5148714780807495,0.5212942361831665,0.5131176710128784,0.5143775343894958,0.49176114797592163,0.4893215000629425,0.48918989300727844,0.48650455474853516,0.49474772810935974,0.4872889220714569,0.4818054735660553,0.47034692764282227,0.4803425967693329,0.48648151755332947,0.4745941460132599,0.46736544370651245,0.47000348567962646,0.4689309895038605,0.46609658002853394,0.46146225929260254,0.45315268635749817,0.45801112055778503]},{\"name\":\"Validation Loss\",\"type\":\"scatter\",\"x\":[0,1,2,3,4,5,6,7,8,9,10,11,12,13,14,15,16,17,18,19,20,21,22,23,24,25,26,27,28,29,30,31,32,33,34,35,36,37,38,39,40,41,42,43,44,45,46,47,48,49],\"y\":[1.0086181163787842,0.8929213285446167,0.8388000130653381,0.7970759868621826,0.8013765811920166,0.7780267596244812,0.7555540800094604,0.7254476547241211,0.7054386138916016,0.7243940234184265,0.7031360864639282,0.6942729949951172,0.6960617899894714,0.7108471989631653,0.6989936232566833,0.6583682894706726,0.6635491847991943,0.6480244398117065,0.6714739203453064,0.6579186320304871,0.6440152525901794,0.6469643712043762,0.6313654780387878,0.6299663782119751,0.6347342133522034,0.6411385536193848,0.6358872056007385,0.6260548830032349,0.6255500912666321,0.6298414468765259,0.6199824213981628,0.6318778395652771,0.6205793619155884,0.5969561338424683,0.6035704612731934,0.6064362525939941,0.6186330914497375,0.5863592028617859,0.5845511555671692,0.5862026810646057,0.5878334641456604,0.5815021991729736,0.5887373089790344,0.5907493829727173,0.5760415196418762,0.5894833207130432,0.5676324367523193,0.5757458209991455,0.5714226365089417,0.5688862204551697]},{\"name\":\"Training Accuracy\",\"type\":\"scatter\",\"x\":[0,1,2,3,4,5,6,7,8,9,10,11,12,13,14,15,16,17,18,19,20,21,22,23,24,25,26,27,28,29,30,31,32,33,34,35,36,37,38,39,40,41,42,43,44,45,46,47,48,49],\"xaxis\":\"x\",\"y\":[0.3887740969657898,0.5480371713638306,0.6093319654464722,0.6470385789871216,0.6689049601554871,0.694903552532196,0.6981749534606934,0.7191804647445679,0.7274448871612549,0.7432851195335388,0.7524104714393616,0.7620523571968079,0.7570592164993286,0.7679063081741333,0.7747933864593506,0.7735881805419922,0.7778925895690918,0.7863292098045349,0.7894283533096313,0.7916666865348816,0.7925275564193726,0.7997589707374573,0.8075068593025208,0.797520637512207,0.8095729947090149,0.809745192527771,0.8085399270057678,0.8081955909729004,0.8166322112083435,0.8162878751754761,0.811639130115509,0.8149104714393616,0.8197314143180847,0.8307507038116455,0.8305785059928894,0.8295454382896423,0.8292011022567749,0.827479362487793,0.8300619721412659,0.8316115736961365,0.8278236985206604,0.8323002457618713,0.8355716466903687,0.8352272510528564,0.8388429880142212,0.8319559097290039,0.8353994488716125,0.8359159827232361,0.8422865271568298,0.8360881805419922],\"yaxis\":\"y2\"},{\"name\":\"Validation Accuracy\",\"type\":\"scatter\",\"x\":[0,1,2,3,4,5,6,7,8,9,10,11,12,13,14,15,16,17,18,19,20,21,22,23,24,25,26,27,28,29,30,31,32,33,34,35,36,37,38,39,40,41,42,43,44,45,46,47,48,49],\"xaxis\":\"x\",\"y\":[0.5403165221214294,0.5960813760757446,0.6239638328552246,0.6405425667762756,0.6480783820152283,0.6669178605079651,0.6789751052856445,0.6910324096679688,0.7008289098739624,0.6993218064308167,0.7061039805412292,0.7091183066368103,0.7121326327323914,0.7143933773040771,0.7204220294952393,0.7400150895118713,0.7400150895118713,0.749811589717865,0.7407686710357666,0.7505651712417603,0.7558402419090271,0.7535794973373413,0.7603617310523987,0.7581009864807129,0.7581009864807129,0.7550866603851318,0.7603617310523987,0.7648832201957703,0.764129638671875,0.7626224756240845,0.7671439051628113,0.7581009864807129,0.761115312576294,0.7731725573539734,0.7724189758300781,0.7739261388778687,0.7663903832435608,0.7761868834495544,0.7761868834495544,0.7761868834495544,0.7792012095451355,0.7784476280212402,0.7784476280212402,0.780708372592926,0.780708372592926,0.7792012095451355,0.7837226986885071,0.7829691171646118,0.7829691171646118,0.7874906063079834],\"yaxis\":\"y2\"}],                        {\"template\":{\"data\":{\"bar\":[{\"error_x\":{\"color\":\"#2a3f5f\"},\"error_y\":{\"color\":\"#2a3f5f\"},\"marker\":{\"line\":{\"color\":\"#E5ECF6\",\"width\":0.5},\"pattern\":{\"fillmode\":\"overlay\",\"size\":10,\"solidity\":0.2}},\"type\":\"bar\"}],\"barpolar\":[{\"marker\":{\"line\":{\"color\":\"#E5ECF6\",\"width\":0.5},\"pattern\":{\"fillmode\":\"overlay\",\"size\":10,\"solidity\":0.2}},\"type\":\"barpolar\"}],\"carpet\":[{\"aaxis\":{\"endlinecolor\":\"#2a3f5f\",\"gridcolor\":\"white\",\"linecolor\":\"white\",\"minorgridcolor\":\"white\",\"startlinecolor\":\"#2a3f5f\"},\"baxis\":{\"endlinecolor\":\"#2a3f5f\",\"gridcolor\":\"white\",\"linecolor\":\"white\",\"minorgridcolor\":\"white\",\"startlinecolor\":\"#2a3f5f\"},\"type\":\"carpet\"}],\"choropleth\":[{\"colorbar\":{\"outlinewidth\":0,\"ticks\":\"\"},\"type\":\"choropleth\"}],\"contour\":[{\"colorbar\":{\"outlinewidth\":0,\"ticks\":\"\"},\"colorscale\":[[0.0,\"#0d0887\"],[0.1111111111111111,\"#46039f\"],[0.2222222222222222,\"#7201a8\"],[0.3333333333333333,\"#9c179e\"],[0.4444444444444444,\"#bd3786\"],[0.5555555555555556,\"#d8576b\"],[0.6666666666666666,\"#ed7953\"],[0.7777777777777778,\"#fb9f3a\"],[0.8888888888888888,\"#fdca26\"],[1.0,\"#f0f921\"]],\"type\":\"contour\"}],\"contourcarpet\":[{\"colorbar\":{\"outlinewidth\":0,\"ticks\":\"\"},\"type\":\"contourcarpet\"}],\"heatmap\":[{\"colorbar\":{\"outlinewidth\":0,\"ticks\":\"\"},\"colorscale\":[[0.0,\"#0d0887\"],[0.1111111111111111,\"#46039f\"],[0.2222222222222222,\"#7201a8\"],[0.3333333333333333,\"#9c179e\"],[0.4444444444444444,\"#bd3786\"],[0.5555555555555556,\"#d8576b\"],[0.6666666666666666,\"#ed7953\"],[0.7777777777777778,\"#fb9f3a\"],[0.8888888888888888,\"#fdca26\"],[1.0,\"#f0f921\"]],\"type\":\"heatmap\"}],\"heatmapgl\":[{\"colorbar\":{\"outlinewidth\":0,\"ticks\":\"\"},\"colorscale\":[[0.0,\"#0d0887\"],[0.1111111111111111,\"#46039f\"],[0.2222222222222222,\"#7201a8\"],[0.3333333333333333,\"#9c179e\"],[0.4444444444444444,\"#bd3786\"],[0.5555555555555556,\"#d8576b\"],[0.6666666666666666,\"#ed7953\"],[0.7777777777777778,\"#fb9f3a\"],[0.8888888888888888,\"#fdca26\"],[1.0,\"#f0f921\"]],\"type\":\"heatmapgl\"}],\"histogram\":[{\"marker\":{\"pattern\":{\"fillmode\":\"overlay\",\"size\":10,\"solidity\":0.2}},\"type\":\"histogram\"}],\"histogram2d\":[{\"colorbar\":{\"outlinewidth\":0,\"ticks\":\"\"},\"colorscale\":[[0.0,\"#0d0887\"],[0.1111111111111111,\"#46039f\"],[0.2222222222222222,\"#7201a8\"],[0.3333333333333333,\"#9c179e\"],[0.4444444444444444,\"#bd3786\"],[0.5555555555555556,\"#d8576b\"],[0.6666666666666666,\"#ed7953\"],[0.7777777777777778,\"#fb9f3a\"],[0.8888888888888888,\"#fdca26\"],[1.0,\"#f0f921\"]],\"type\":\"histogram2d\"}],\"histogram2dcontour\":[{\"colorbar\":{\"outlinewidth\":0,\"ticks\":\"\"},\"colorscale\":[[0.0,\"#0d0887\"],[0.1111111111111111,\"#46039f\"],[0.2222222222222222,\"#7201a8\"],[0.3333333333333333,\"#9c179e\"],[0.4444444444444444,\"#bd3786\"],[0.5555555555555556,\"#d8576b\"],[0.6666666666666666,\"#ed7953\"],[0.7777777777777778,\"#fb9f3a\"],[0.8888888888888888,\"#fdca26\"],[1.0,\"#f0f921\"]],\"type\":\"histogram2dcontour\"}],\"mesh3d\":[{\"colorbar\":{\"outlinewidth\":0,\"ticks\":\"\"},\"type\":\"mesh3d\"}],\"parcoords\":[{\"line\":{\"colorbar\":{\"outlinewidth\":0,\"ticks\":\"\"}},\"type\":\"parcoords\"}],\"pie\":[{\"automargin\":true,\"type\":\"pie\"}],\"scatter\":[{\"marker\":{\"colorbar\":{\"outlinewidth\":0,\"ticks\":\"\"}},\"type\":\"scatter\"}],\"scatter3d\":[{\"line\":{\"colorbar\":{\"outlinewidth\":0,\"ticks\":\"\"}},\"marker\":{\"colorbar\":{\"outlinewidth\":0,\"ticks\":\"\"}},\"type\":\"scatter3d\"}],\"scattercarpet\":[{\"marker\":{\"colorbar\":{\"outlinewidth\":0,\"ticks\":\"\"}},\"type\":\"scattercarpet\"}],\"scattergeo\":[{\"marker\":{\"colorbar\":{\"outlinewidth\":0,\"ticks\":\"\"}},\"type\":\"scattergeo\"}],\"scattergl\":[{\"marker\":{\"colorbar\":{\"outlinewidth\":0,\"ticks\":\"\"}},\"type\":\"scattergl\"}],\"scattermapbox\":[{\"marker\":{\"colorbar\":{\"outlinewidth\":0,\"ticks\":\"\"}},\"type\":\"scattermapbox\"}],\"scatterpolar\":[{\"marker\":{\"colorbar\":{\"outlinewidth\":0,\"ticks\":\"\"}},\"type\":\"scatterpolar\"}],\"scatterpolargl\":[{\"marker\":{\"colorbar\":{\"outlinewidth\":0,\"ticks\":\"\"}},\"type\":\"scatterpolargl\"}],\"scatterternary\":[{\"marker\":{\"colorbar\":{\"outlinewidth\":0,\"ticks\":\"\"}},\"type\":\"scatterternary\"}],\"surface\":[{\"colorbar\":{\"outlinewidth\":0,\"ticks\":\"\"},\"colorscale\":[[0.0,\"#0d0887\"],[0.1111111111111111,\"#46039f\"],[0.2222222222222222,\"#7201a8\"],[0.3333333333333333,\"#9c179e\"],[0.4444444444444444,\"#bd3786\"],[0.5555555555555556,\"#d8576b\"],[0.6666666666666666,\"#ed7953\"],[0.7777777777777778,\"#fb9f3a\"],[0.8888888888888888,\"#fdca26\"],[1.0,\"#f0f921\"]],\"type\":\"surface\"}],\"table\":[{\"cells\":{\"fill\":{\"color\":\"#EBF0F8\"},\"line\":{\"color\":\"white\"}},\"header\":{\"fill\":{\"color\":\"#C8D4E3\"},\"line\":{\"color\":\"white\"}},\"type\":\"table\"}]},\"layout\":{\"annotationdefaults\":{\"arrowcolor\":\"#2a3f5f\",\"arrowhead\":0,\"arrowwidth\":1},\"autotypenumbers\":\"strict\",\"coloraxis\":{\"colorbar\":{\"outlinewidth\":0,\"ticks\":\"\"}},\"colorscale\":{\"diverging\":[[0,\"#8e0152\"],[0.1,\"#c51b7d\"],[0.2,\"#de77ae\"],[0.3,\"#f1b6da\"],[0.4,\"#fde0ef\"],[0.5,\"#f7f7f7\"],[0.6,\"#e6f5d0\"],[0.7,\"#b8e186\"],[0.8,\"#7fbc41\"],[0.9,\"#4d9221\"],[1,\"#276419\"]],\"sequential\":[[0.0,\"#0d0887\"],[0.1111111111111111,\"#46039f\"],[0.2222222222222222,\"#7201a8\"],[0.3333333333333333,\"#9c179e\"],[0.4444444444444444,\"#bd3786\"],[0.5555555555555556,\"#d8576b\"],[0.6666666666666666,\"#ed7953\"],[0.7777777777777778,\"#fb9f3a\"],[0.8888888888888888,\"#fdca26\"],[1.0,\"#f0f921\"]],\"sequentialminus\":[[0.0,\"#0d0887\"],[0.1111111111111111,\"#46039f\"],[0.2222222222222222,\"#7201a8\"],[0.3333333333333333,\"#9c179e\"],[0.4444444444444444,\"#bd3786\"],[0.5555555555555556,\"#d8576b\"],[0.6666666666666666,\"#ed7953\"],[0.7777777777777778,\"#fb9f3a\"],[0.8888888888888888,\"#fdca26\"],[1.0,\"#f0f921\"]]},\"colorway\":[\"#636efa\",\"#EF553B\",\"#00cc96\",\"#ab63fa\",\"#FFA15A\",\"#19d3f3\",\"#FF6692\",\"#B6E880\",\"#FF97FF\",\"#FECB52\"],\"font\":{\"color\":\"#2a3f5f\"},\"geo\":{\"bgcolor\":\"white\",\"lakecolor\":\"white\",\"landcolor\":\"#E5ECF6\",\"showlakes\":true,\"showland\":true,\"subunitcolor\":\"white\"},\"hoverlabel\":{\"align\":\"left\"},\"hovermode\":\"closest\",\"mapbox\":{\"style\":\"light\"},\"paper_bgcolor\":\"white\",\"plot_bgcolor\":\"#E5ECF6\",\"polar\":{\"angularaxis\":{\"gridcolor\":\"white\",\"linecolor\":\"white\",\"ticks\":\"\"},\"bgcolor\":\"#E5ECF6\",\"radialaxis\":{\"gridcolor\":\"white\",\"linecolor\":\"white\",\"ticks\":\"\"}},\"scene\":{\"xaxis\":{\"backgroundcolor\":\"#E5ECF6\",\"gridcolor\":\"white\",\"gridwidth\":2,\"linecolor\":\"white\",\"showbackground\":true,\"ticks\":\"\",\"zerolinecolor\":\"white\"},\"yaxis\":{\"backgroundcolor\":\"#E5ECF6\",\"gridcolor\":\"white\",\"gridwidth\":2,\"linecolor\":\"white\",\"showbackground\":true,\"ticks\":\"\",\"zerolinecolor\":\"white\"},\"zaxis\":{\"backgroundcolor\":\"#E5ECF6\",\"gridcolor\":\"white\",\"gridwidth\":2,\"linecolor\":\"white\",\"showbackground\":true,\"ticks\":\"\",\"zerolinecolor\":\"white\"}},\"shapedefaults\":{\"line\":{\"color\":\"#2a3f5f\"}},\"ternary\":{\"aaxis\":{\"gridcolor\":\"white\",\"linecolor\":\"white\",\"ticks\":\"\"},\"baxis\":{\"gridcolor\":\"white\",\"linecolor\":\"white\",\"ticks\":\"\"},\"bgcolor\":\"#E5ECF6\",\"caxis\":{\"gridcolor\":\"white\",\"linecolor\":\"white\",\"ticks\":\"\"}},\"title\":{\"x\":0.05},\"xaxis\":{\"automargin\":true,\"gridcolor\":\"white\",\"linecolor\":\"white\",\"ticks\":\"\",\"title\":{\"standoff\":15},\"zerolinecolor\":\"white\",\"zerolinewidth\":2},\"yaxis\":{\"automargin\":true,\"gridcolor\":\"white\",\"linecolor\":\"white\",\"ticks\":\"\",\"title\":{\"standoff\":15},\"zerolinecolor\":\"white\",\"zerolinewidth\":2}}},\"title\":{\"text\":\"Training Results\",\"x\":0.45},\"xaxis\":{\"anchor\":\"y\",\"domain\":[0.0,0.94],\"title\":{\"text\":\"Epochs\"}},\"yaxis\":{\"anchor\":\"x\",\"domain\":[0.0,1.0],\"title\":{\"text\":\"Loss\"}},\"yaxis2\":{\"anchor\":\"x\",\"overlaying\":\"y\",\"range\":[0,1],\"side\":\"right\",\"title\":{\"text\":\"Accuracy\"}}},                        {\"responsive\": true}                    ).then(function(){\n",
       "                            \n",
       "var gd = document.getElementById('0b833fe1-325f-4cc9-abd7-93a0ea3b34b8');\n",
       "var x = new MutationObserver(function (mutations, observer) {{\n",
       "        var display = window.getComputedStyle(gd).display;\n",
       "        if (!display || display === 'none') {{\n",
       "            console.log([gd, 'removed!']);\n",
       "            Plotly.purge(gd);\n",
       "            observer.disconnect();\n",
       "        }}\n",
       "}});\n",
       "\n",
       "// Listen for the removal of the full notebook cells\n",
       "var notebookContainer = gd.closest('#notebook-container');\n",
       "if (notebookContainer) {{\n",
       "    x.observe(notebookContainer, {childList: true});\n",
       "}}\n",
       "\n",
       "// Listen for the clearing of the current output cell\n",
       "var outputEl = gd.closest('.output');\n",
       "if (outputEl) {{\n",
       "    x.observe(outputEl, {childList: true});\n",
       "}}\n",
       "\n",
       "                        })                };                });            </script>        </div>"
      ]
     },
     "metadata": {},
     "output_type": "display_data"
    }
   ],
   "source": [
    "epochs=50\n",
    "batch_size=32\n",
    "lr = 0.00001\n",
    "model.compile(loss=tensorflow.keras.losses.categorical_crossentropy,\n",
    "              optimizer=tensorflow.keras.optimizers.Adadelta(learning_rate=lr),\n",
    "              metrics=['accuracy'])\n",
    "\n",
    "model.summary()\n",
    "\n",
    "\n",
    "\n",
    "# fit the model\n",
    "history=model.fit(X_train, y_train,\n",
    "          batch_size=batch_size,\n",
    "          epochs=epochs,\n",
    "          verbose=1,\n",
    "          validation_data=(X_valid, y_valid))\n",
    "model_name=f\"cnn64dense_kernel_{str(kernel).replace(',','x').replace(' ','')[1:-1]}_batch-{batch_size}_epochs_{epochs}_lr_{str(lr).replace('.','_')}_adadelta\"\n",
    "model.save(f'{path}ScreamDetection/CNN/trained_models/{model_name}')\n",
    "\n",
    "training_loss=history.history['loss']\n",
    "validation_loss=history.history['val_loss']\n",
    "training_acc=history.history['accuracy']\n",
    "validation_acc=history.history['val_accuracy']\n",
    "import plotly.express as px\n",
    "from plotly.subplots import make_subplots\n",
    "# fig=px.line(training_loss)\n",
    "# fig.add_scatter(validation_loss, mode='lines')\n",
    "\n",
    "import pandas as pd\n",
    "df=pd.DataFrame()\n",
    "df['training_loss'] = training_loss\n",
    "df['validation_loss'] = validation_loss\n",
    "df['training_acc'] = training_acc\n",
    "df['validation_acc'] = validation_acc\n",
    "\n",
    "df.to_csv(f'{path}ScreamDetection/CNN/trained_models/{model_name}.csv')\n",
    "\n",
    "trace1 = go.Scatter(\n",
    "x=df.index,\n",
    "    y=df['training_loss'],\n",
    "    name='Training Loss'\n",
    ")\n",
    "trace2 = go.Scatter(\n",
    "    x=df.index,\n",
    "    y=df['validation_loss'],\n",
    "    name='Validation Loss'\n",
    ")\n",
    "trace3 = go.Scatter(\n",
    "    x=df.index,\n",
    "    y=df['training_acc'],\n",
    "    name='Training Accuracy',\n",
    "    yaxis='y2'\n",
    ")\n",
    "trace4 = go.Scatter(\n",
    "    x=df.index,\n",
    "    y=df['validation_acc'],\n",
    "    name='Validation Accuracy',\n",
    "    yaxis='y2'\n",
    ")\n",
    "\n",
    "fig = make_subplots(specs=[[{\"secondary_y\": True}]])\n",
    "fig.add_trace(trace1)\n",
    "fig.add_trace(trace2)\n",
    "fig.add_trace(trace3,secondary_y=True)\n",
    "fig.add_trace(trace4,secondary_y=True)\n",
    "fig.update_yaxes(range=[0,1],secondary_y=True)\n",
    "fig.update_layout(title_text='Training Results', title_x=0.45)\n",
    "# Set x-axis title\n",
    "fig.update_xaxes(title_text=\"Epochs\")\n",
    "\n",
    "# Set y-axes titles\n",
    "fig.update_yaxes(title_text=\"Loss\", secondary_y=False)\n",
    "fig.update_yaxes(title_text=\"Accuracy\", secondary_y=True)\n",
    "fig.show()"
   ]
  },
  {
   "cell_type": "code",
   "execution_count": 27,
   "metadata": {},
   "outputs": [],
   "source": [
    "model=tf.keras.models.load_model('/Users/vedant/Desktop/Programming/ScreamDetection/classifier-comparison/CNN/trained_models/cnn64dense_kernel_2x2_batch-32_epochs_50_lr_1e-05_adadelta')\n"
   ]
  },
  {
   "cell_type": "code",
   "execution_count": 28,
   "metadata": {},
   "outputs": [],
   "source": [
    "from sklearn.metrics import confusion_matrix,accuracy_score, ConfusionMatrixDisplay, balanced_accuracy_score,f1_score\n",
    "def classwise_accuracy(cm):\n",
    "    a=np.zeros(cm.shape)\n",
    "    for i,x in enumerate(cm):\n",
    "        a[i]=x/sum(x)\n",
    "    return a\n",
    "def eval_metrics(y_test,y_pred):\n",
    "    cm = confusion_matrix(y_test,y_pred)\n",
    "    acc = accuracy_score(y_test,y_pred)\n",
    "    f1 = f1_score(y_test,y_pred,average='macro')\n",
    "    macro_acc = balanced_accuracy_score(y_test,y_pred)\n",
    "    classwise_acc = classwise_accuracy(cm)\n",
    "    return(cm,acc,f1,macro_acc,classwise_acc)"
   ]
  },
  {
   "cell_type": "code",
   "execution_count": 30,
   "metadata": {},
   "outputs": [
    {
     "name": "stdout",
     "output_type": "stream",
     "text": [
      "Overall Accuracy Score: 0.8251695553880934\n",
      "Class-wise accuracy:\n",
      "[0.81235698 0.13729977 0.05034325]\n",
      "[0.17547569 0.76321353 0.06131078]\n",
      "[0.0383693  0.05275779 0.9088729 ]\n",
      "Macro Accuracy: 0.8281478039130276\n",
      "F1 score: 0.8266634430235507\n",
      "Confusion Matrix:\n"
     ]
    },
    {
     "data": {
      "text/plain": [
       "<sklearn.metrics._plot.confusion_matrix.ConfusionMatrixDisplay at 0x192ce8220>"
      ]
     },
     "execution_count": 30,
     "metadata": {},
     "output_type": "execute_result"
    },
    {
     "data": {
      "image/png": "[encoded data removed]",
      "text/plain": [
       "<Figure size 432x288 with 2 Axes>"
      ]
     },
     "metadata": {
      "needs_background": "light"
     },
     "output_type": "display_data"
    }
   ],
   "source": [
    "from sklearn.metrics import confusion_matrix,precision_score,accuracy_score,ConfusionMatrixDisplay\n",
    "y_pred=model.predict(X_valid)\n",
    "# y_pred[np.where(y_pred==np.max(y_pred))] = 1\n",
    "\n",
    "\n",
    "predicted=np.argmax(y_pred, axis=1)\n",
    "ground_truth=np.argmax(y_valid, axis=1)\n",
    "\n",
    "# cm=confusion_matrix(ground_truth,predicted)\n",
    "# score=precision_score(ground_truth,predicted, average='macro')\n",
    "# acc = accuracy_score(ground_truth,predicted)\n",
    "\n",
    "cm,acc,f1,macro_acc,classwise_acc = eval_metrics(ground_truth,predicted)\n",
    "print(f\"Overall Accuracy Score: {acc}\")\n",
    "print(\"Class-wise accuracy:\")\n",
    "for row in cm:\n",
    "    print(row/row.sum())\n",
    "print(f\"Macro Accuracy: {macro_acc}\")\n",
    "print(f\"F1 score: {f1}\")\n",
    "\n",
    "print(\"Confusion Matrix:\")\n",
    "# print(cm)\n",
    "ConfusionMatrixDisplay(confusion_matrix=cm,display_labels=['sing','scream','no vocal']).plot()"
   ]
  },
  {
   "cell_type": "code",
   "execution_count": null,
   "metadata": {},
   "outputs": [],
   "source": [
    "from tensorflow.keras.utils import to_categorical\n",
    "import pandas as pd\n",
    "import os\n",
    "import pandas as pd\n",
    "import soundfile as sf\n",
    "import numpy as np\n",
    "from sklearn.utils import shuffle\n",
    "from sys import platform\n",
    "from sklearn.model_selection import train_test_split, GroupShuffleSplit\n",
    "\n",
    "if platform == \"linux\" or platform == \"linux2\":\n",
    "    # linux\n",
    "    path='/home/vkalbag/projects/'\n",
    "elif platform == \"darwin\":\n",
    "    # OS X\n",
    "    path='/Users/vedant/Desktop/Programming/'\n",
    "\n",
    "\n",
    "cols=['video_id','start_time','mid_ts','label','audio','vggish']\n",
    "\n",
    "d=np.load(f'{path}ScreamDetection/resources/working_data/vocal_only_data_with_vggish.npy',allow_pickle=True)\n",
    "df = pd.DataFrame(d,columns=cols)\n",
    "\n",
    "lut = pd.read_csv(f'{path}/ScreamDetection/resources/dataset/lookup.csv')\n",
    "\n",
    "df=df.merge(lut[['video_id','band_name']],on='video_id')\n",
    "df\n",
    "\n",
    "feature_df=df[['label','audio','band_name']]\n",
    "mapping=[]\n",
    "# for index,row in feature_df.iterrows():\n",
    "#     if row['label'] == 'clean':\n",
    "#         mapping.append(0)\n",
    "#     if row['label'] == 'highfry':\n",
    "#         mapping.append(1)\n",
    "#     if row['label'] == 'layered':\n",
    "#         mapping.append(1)\n",
    "#     if row['label'] == 'lowfry':\n",
    "#         mapping.append(1)\n",
    "#     if row['label'] == 'midfry':\n",
    "#         mapping.append(1)\n",
    "#     if row['label'] == 'no_vocals':\n",
    "#         mapping.append(2)\n",
    "for index,row in feature_df.iterrows():\n",
    "    if row['label'] == 'clean':\n",
    "        mapping.append(0)\n",
    "    if row['label'] == 'highfry':\n",
    "        mapping.append(1)\n",
    "    if row['label'] == 'layered':\n",
    "        mapping.append(2)\n",
    "    if row['label'] == 'lowfry':\n",
    "        mapping.append(3)\n",
    "    if row['label'] == 'midfry':\n",
    "        mapping.append(4)\n",
    "    if row['label'] == 'no_vocals':\n",
    "        mapping.append(5)\n",
    "feature_df.insert(3,'label_mapped',mapping)\n",
    "\n",
    "\n",
    "d=pd.DataFrame()\n",
    "d['y_under'] = feature_df['label_mapped'].to_numpy()\n",
    "d['blah'] = 1\n",
    "\n",
    "print(d.groupby('y_under')['blah'].count())\n",
    "\n",
    "\n",
    "from imblearn.under_sampling import RandomUnderSampler\n",
    "# undersample = RandomUnderSampler(sampling_strategy={0:2462,1:3000,2:3000},random_state=0)\n",
    "undersample = RandomUnderSampler(sampling_strategy={0:1000,1:1000,2:877, 3:555, 4: 1000, 5: 1000},random_state=0)\n",
    "X = feature_df[['audio','band_name']].to_numpy()\n",
    "y=feature_df['label_mapped'].to_numpy()\n",
    "X_under, y_under = undersample.fit_resample(X, y)\n",
    "\n",
    "band_names = X_under[:,1]\n",
    "X_under=X_under[:,0]#.reshape(-1,1).flatten()\n",
    "y_under=y_under\n",
    "\n",
    "gss = GroupShuffleSplit(n_splits=5, train_size=.7, random_state=42)\n",
    "train,test = next(gss.split(X_under, y_under, band_names))\n",
    "# for train_idx,test_idx in gss.split(X_under, y_under, band_names): \n",
    "#     print(train_idx,test_idx)\n",
    "\n",
    "X_train = X_under[train]\n",
    "X_test1 = X_under[test]\n",
    "\n",
    "y_train = y_under[train]\n",
    "y_test1 = y_under[test]\n",
    "\n",
    "X_test,X_valid,y_test,y_valid = train_test_split(X_test1, y_test1,test_size=0.5,random_state=42)\n",
    "\n",
    "y_train_hot = to_categorical(y_train)\n",
    "y_test_hot = to_categorical(y_test)\n",
    "y_valid_hot = to_categorical(y_valid)\n",
    "\n",
    "X_train,y_train=shuffle(X_train,y_train_hot)\n",
    "X_test,y_test=shuffle(X_test,y_test_hot)\n",
    "X_valid,y_valid=shuffle(X_valid,y_valid_hot)\n",
    "\n",
    "# np.save(f'{path}ScreamDetection/FINAL/working_data_final/x_train-rawaudio.npy', X_train)\n",
    "# np.save(f'{path}ScreamDetection/FINAL/working_data_final/x_test-rawaudio.npy', X_test)\n",
    "# np.save(f'{path}ScreamDetection/FINAL/working_data_final/x_valid-rawaudio.npy', X_valid)\n",
    "\n",
    "# np.save(f'{path}ScreamDetection/FINAL/working_data_final/y_train-rawaudio.npy', y_train)\n",
    "# np.save(f'{path}ScreamDetection/FINAL/working_data_final/y_test-rawaudio.npy', y_test)\n",
    "# np.save(f'{path}ScreamDetection/FINAL/working_data_final/y_valid-rawaudio.npy', y_valid)\n",
    "\n",
    "np.save(f'{path}ScreamDetection/FINAL/working_data_final/x_train-rawaudio-6class.npy', X_train)\n",
    "np.save(f'{path}ScreamDetection/FINAL/working_data_final/x_test-rawaudio-6class.npy', X_test)\n",
    "np.save(f'{path}ScreamDetection/FINAL/working_data_final/x_valid-rawaudio-6class.npy', X_valid)\n",
    "\n",
    "np.save(f'{path}ScreamDetection/FINAL/working_data_final/y_train-rawaudio-6class.npy', y_train)\n",
    "np.save(f'{path}ScreamDetection/FINAL/working_data_final/y_test-rawaudio-6class.npy', y_test)\n",
    "np.save(f'{path}ScreamDetection/FINAL/working_data_final/y_valid-rawaudio-6class.npy', y_valid)"
   ]
  },
  {
   "cell_type": "code",
   "execution_count": null,
   "metadata": {},
   "outputs": [],
   "source": [
    "x_train=np.load(f'{path}ScreamDetection/FINAL/working_data_final/x_train-rawaudio-6class.npy',allow_pickle = True)\n",
    "y_train=np.argmax(np.load(f'{path}ScreamDetection/FINAL/working_data_final/y_train-rawaudio-6class.npy',allow_pickle = True),axis=1)\n",
    "\n",
    "x_test=np.load(f'{path}ScreamDetection/FINAL/working_data_final/x_test-rawaudio-6class.npy',allow_pickle = True)\n",
    "y_test=np.argmax(np.load(f'{path}ScreamDetection/FINAL/working_data_final/y_test-rawaudio-6class.npy',allow_pickle = True),axis=1)\n",
    "\n",
    "x_valid=np.load(f'{path}ScreamDetection/FINAL/working_data_final/x_valid-rawaudio-6class.npy',allow_pickle = True)\n",
    "y_valid=np.argmax(np.load(f'{path}ScreamDetection/FINAL/working_data_final/y_valid-rawaudio-6class.npy',allow_pickle = True),axis=1)\n",
    "\n",
    "\n",
    "y_train_hot = to_categorical(y_train)\n",
    "y_test_hot = to_categorical(y_test)\n",
    "y_valid_hot = to_categorical(y_valid)\n",
    "\n",
    "\n",
    "\n",
    "\n",
    "\n",
    "X_train = []\n",
    "X_test = []\n",
    "X_valid=[]\n",
    "for y1 in x_train:\n",
    "    X_train.append(librosa.power_to_db(librosa.feature.melspectrogram(y=y1, sr=44100)))\n",
    "for y2 in x_test:\n",
    "    X_test.append(librosa.power_to_db(librosa.feature.melspectrogram(y=y2, sr=44100)))\n",
    "for y3 in x_valid:\n",
    "    X_valid.append(librosa.power_to_db(librosa.feature.melspectrogram(y=y3, sr=44100)))\n",
    "\n",
    "\n",
    "\n",
    "\n",
    "\n",
    "\n",
    "X_train = np.array(X_train)\n",
    "X_test = np.array(X_test)\n",
    "X_valid = np.array(X_valid)\n",
    "\n",
    "X_train = X_train.reshape(X_train.shape[0], 128, 87, 1)\n",
    "X_test = X_test.reshape(X_test.shape[0], 128, 87, 1)\n",
    "X_valid = X_valid.reshape(X_valid.shape[0], 128, 87, 1)\n",
    "\n",
    "X_train,y_train=shuffle(X_train,y_train_hot)\n",
    "X_test,y_test=shuffle(X_test,y_test_hot)\n",
    "X_valid,y_valid=shuffle(X_valid,y_valid_hot)\n",
    "\n",
    "\n",
    "\n",
    "\n",
    "\n",
    "import tensorflow as tf\n",
    "config = tf.compat.v1.ConfigProto()\n",
    "config.gpu_options.per_process_gpu_memory_fraction = 0.3\n",
    "\n",
    "\n",
    "\n",
    "\n",
    "\n",
    "# model\n",
    "model = Sequential()\n",
    "kernel=(3,3)\n",
    "input_shape = (128, 87, 1)\n",
    "model.add(Conv2D(256, kernel_size=kernel, activation='relu', input_shape=input_shape, kernel_regularizer=tf.keras.regularizers.l2(l=0.01)))\n",
    "model.add(MaxPooling2D(pool_size=kernel))\n",
    "model.add(Conv2D(512, kernel_size=kernel, activation='relu', input_shape=input_shape, kernel_regularizer=tf.keras.regularizers.l2(l=0.01)))\n",
    "model.add(MaxPooling2D(pool_size=kernel))\n",
    "model.add(Conv2D(1024, kernel_size=kernel, activation='relu', input_shape=input_shape, kernel_regularizer=tf.keras.regularizers.l2(l=0.01)))\n",
    "model.add(MaxPooling2D(pool_size=kernel))\n",
    "model.add(Dropout(0.25))\n",
    "model.add(Flatten())\n",
    "model.add(Dense(256,activation='relu'))\n",
    "model.add(Dense(64, activation='relu'))\n",
    "model.add(Dense(16, activation='relu'))\n",
    "model.add(Dropout(0.25))\n",
    "model.add(Dense(6, activation='softmax'))\n",
    "\n",
    "epochs=20\n",
    "batch_size=32\n",
    "lr = 0.000001\n",
    "model.compile(loss=tensorflow.keras.losses.categorical_crossentropy,\n",
    "              optimizer=tensorflow.keras.optimizers.Adam(learning_rate=lr),\n",
    "              metrics=['accuracy'])\n",
    "\n",
    "model.summary()\n",
    "\n",
    "\n",
    "\n",
    "# fit the model\n",
    "history=model.fit(X_train, y_train,\n",
    "          batch_size=batch_size,\n",
    "          epochs=epochs,\n",
    "          verbose=1,\n",
    "          validation_data=(X_valid, y_valid))\n",
    "model_name=f\"cnn64dense_kernel_{str(kernel).replace(',','x').replace(' ','')[1:-1]}_batch-{batch_size}_epochs_{epochs}_lr_{str(lr).replace('.','_')}_adadelta\"\n",
    "# model.save(f'{path}ScreamDetection/CNN/trained_models/{model_name}')\n",
    "\n",
    "training_loss=history.history['loss']\n",
    "validation_loss=history.history['val_loss']\n",
    "training_acc=history.history['accuracy']\n",
    "validation_acc=history.history['val_accuracy']\n",
    "import plotly.express as px\n",
    "from plotly.subplots import make_subplots\n",
    "# fig=px.line(training_loss)\n",
    "# fig.add_scatter(validation_loss, mode='lines')\n",
    "\n",
    "import pandas as pd\n",
    "df=pd.DataFrame()\n",
    "df['training_loss'] = training_loss\n",
    "df['validation_loss'] = validation_loss\n",
    "df['training_acc'] = training_acc\n",
    "df['validation_acc'] = validation_acc\n",
    "# model.save(f'{path}ScreamDetection/CNN/trained_models/{model_name}')\n",
    "# df.to_csv(f'{path}ScreamDetection/CNN/trained_models/{model_name}.csv')\n",
    "\n",
    "trace1 = go.Scatter(\n",
    "x=df.index,\n",
    "    y=df['training_loss'],\n",
    "    name='Training Loss'\n",
    ")\n",
    "trace2 = go.Scatter(\n",
    "    x=df.index,\n",
    "    y=df['validation_loss'],\n",
    "    name='Validation Loss'\n",
    ")\n",
    "trace3 = go.Scatter(\n",
    "    x=df.index,\n",
    "    y=df['training_acc'],\n",
    "    name='Training Accuracy',\n",
    "    yaxis='y2'\n",
    ")\n",
    "trace4 = go.Scatter(\n",
    "    x=df.index,\n",
    "    y=df['validation_acc'],\n",
    "    name='Validation Accuracy',\n",
    "    yaxis='y2'\n",
    ")\n",
    "\n",
    "fig = make_subplots(specs=[[{\"secondary_y\": True}]])\n",
    "fig.add_trace(trace1)\n",
    "fig.add_trace(trace2)\n",
    "fig.add_trace(trace3,secondary_y=True)\n",
    "fig.add_trace(trace4,secondary_y=True)\n",
    "fig.update_yaxes(range=[0,1],secondary_y=True)\n",
    "fig.update_layout(title_text='Training Results', title_x=0.45)\n",
    "# Set x-axis title\n",
    "fig.update_xaxes(title_text=\"Epochs\")\n",
    "\n",
    "# Set y-axes titles\n",
    "fig.update_yaxes(title_text=\"Loss\", secondary_y=False)\n",
    "fig.update_yaxes(title_text=\"Accuracy\", secondary_y=True)\n",
    "fig.show()\n",
    "\n",
    "\n",
    "\n",
    "\n",
    "\n",
    "from sklearn.metrics import confusion_matrix,precision_score,accuracy_score,ConfusionMatrixDisplay\n",
    "y_pred=model.predict(X_test)\n",
    "# y_pred[np.where(y_pred==np.max(y_pred))] = 1\n",
    "\n",
    "\n",
    "predicted=np.argmax(y_pred, axis=1)\n",
    "ground_truth=np.argmax(y_test, axis=1)\n",
    "\n",
    "cm=confusion_matrix(ground_truth,predicted)\n",
    "score=precision_score(ground_truth,predicted, average='macro')\n",
    "acc = accuracy_score(ground_truth,predicted)\n",
    "\n",
    "\n",
    "print(f\"Overall Accuracy Score: {acc}\")\n",
    "print(\"Class-wise accuracy:\")\n",
    "for row in cm:\n",
    "    print(row/row.sum())\n",
    "print(f\"Macro Accuracy: {score}\")\n",
    "\n",
    "print(\"Confusion Matrix:\")\n",
    "# print(cm)\n",
    "ConfusionMatrixDisplay(confusion_matrix=cm,display_labels=['sing','high fry','layered','lowfry','midfry','no vocal']).plot()\n",
    "\n",
    "\n",
    "\n",
    "\n",
    "model.save(f'{path}ScreamDetection/CNN/trained_models/6class/{model_name}')\n",
    "df.to_csv(f'{path}ScreamDetection/CNN/trained_models/6class/{model_name}.csv')"
   ]
  }
 ],
 "metadata": {
  "interpreter": {
   "hash": "802206bb6db1539b71df00790b2e1ed605311b936df16ad4f78357b9e7528267"
  },
  "kernelspec": {
   "display_name": "Python 3.8.12 64-bit ('scream_detection_venv': conda)",
   "language": "python",
   "name": "python3"
  },
  "language_info": {
   "codemirror_mode": {
    "name": "ipython",
    "version": 3
   },
   "file_extension": ".py",
   "mimetype": "text/x-python",
   "name": "python",
   "nbconvert_exporter": "python",
   "pygments_lexer": "ipython3",
   "version": "3.9.10"
  },
  "orig_nbformat": 4
 },
 "nbformat": 4,
 "nbformat_minor": 2
}
