{
 "cells": [
  {
   "cell_type": "code",
   "execution_count": 16,
   "metadata": {},
   "outputs": [],
   "source": [
    "import os\n",
    "import numpy as np\n",
    "from sklearn.svm import SVC\n",
    "from sklearn.metrics import classification_report\n",
    "from sklearn.metrics import confusion_matrix,accuracy_score, precision_score, ConfusionMatrixDisplay"
   ]
  },
  {
   "cell_type": "code",
   "execution_count": 19,
   "metadata": {},
   "outputs": [],
   "source": [
    "from sklearn.preprocessing import StandardScaler\n",
    "\n",
    "X_train=np.load(f'./working_data/x_train-features_unnormalized.npy',allow_pickle = True)\n",
    "y_train=np.argmax(np.load(f'./working_data/y_train-features_unnormalized.npy',allow_pickle = True),axis=1)\n",
    "\n",
    "X_test=np.load(f'./working_data/x_test-features_unnormalized.npy',allow_pickle = True)\n",
    "y_test=np.argmax(np.load(f'./working_data/y_test-features_unnormalized.npy',allow_pickle = True),axis=1)\n",
    "\n",
    "X_valid=np.load(f'./working_data/x_valid-features_unnormalized.npy',allow_pickle = True)\n",
    "y_valid=np.argmax(np.load(f'./working_data/y_valid-features_unnormalized.npy',allow_pickle = True),axis=1)\n",
    "\n",
    "scaler=StandardScaler()\n",
    "X_train = scaler.fit_transform(X_train)\n",
    "X_test = scaler.transform(X_test)\n",
    "X_valid = scaler.transform(X_valid)"
   ]
  },
  {
   "cell_type": "markdown",
   "metadata": {},
   "source": [
    "## SVM Results for 3 classes with test set accuracy"
   ]
  },
  {
   "cell_type": "code",
   "execution_count": 18,
   "metadata": {},
   "outputs": [
    {
     "name": "stdout",
     "output_type": "stream",
     "text": [
      "Overall Accuracy Score: 0.8251695553880934\n",
      "Class-wise accuracy:\n",
      "[0.79767442 0.18372093 0.01860465]\n",
      "[0.14893617 0.80425532 0.04680851]\n",
      "[0.06557377 0.05854801 0.87587822]\n",
      "Macro Accuracy: 0.8292509057268106\n",
      "Confusion Matrix:\n"
     ]
    },
    {
     "data": {
      "text/plain": [
       "<sklearn.metrics._plot.confusion_matrix.ConfusionMatrixDisplay at 0x16d328fa0>"
      ]
     },
     "execution_count": 18,
     "metadata": {},
     "output_type": "execute_result"
    },
    {
     "data": {
      "image/png": "[encoded data removed]",
      "text/plain": [
       "<Figure size 432x288 with 2 Axes>"
      ]
     },
     "metadata": {
      "needs_background": "light"
     },
     "output_type": "display_data"
    }
   ],
   "source": [
    "SVM_model = SVC(gamma='scale',C=1.0533, kernel='poly', degree=2,coef0=2.1,random_state=42)\n",
    "SVM_model.fit(X_train, y_train)\n",
    "SVM_prediction = SVM_model.predict(X_test)\n",
    "\n",
    "cm=confusion_matrix(y_test,SVM_prediction)\n",
    "score=precision_score(y_test,SVM_prediction, average='macro')\n",
    "acc = accuracy_score(y_test,SVM_prediction)\n",
    "\n",
    "\n",
    "print(f\"Overall Accuracy Score: {acc}\")\n",
    "print(\"Class-wise accuracy:\")\n",
    "for row in cm:\n",
    "    print(row/row.sum())\n",
    "print(f\"Macro Accuracy: {score}\")\n",
    "\n",
    "print(\"Confusion Matrix:\")\n",
    "# print(cm)\n",
    "ConfusionMatrixDisplay(confusion_matrix=cm,display_labels=['sing','scream','no vocal']).plot()\n"
   ]
  },
  {
   "cell_type": "markdown",
   "metadata": {},
   "source": [
    "# VGGish"
   ]
  },
  {
   "cell_type": "code",
   "execution_count": 5,
   "metadata": {},
   "outputs": [],
   "source": [
    "X_train=np.load(f'./working_data/x_train-vggish.npy',allow_pickle = True)\n",
    "y_train=np.argmax(np.load(f'./working_data/y_train-vggish.npy',allow_pickle = True),axis=1)\n",
    "\n",
    "X_test=np.load(f'./working_data/x_test-vggish.npy',allow_pickle = True)\n",
    "y_test=np.argmax(np.load(f'./working_data/y_test-vggish.npy',allow_pickle = True),axis=1)\n",
    "\n",
    "X_valid=np.load(f'./working_data/x_valid-vggish.npy',allow_pickle = True)\n",
    "y_valid=np.argmax(np.load(f'./working_data/y_valid-vggish.npy',allow_pickle = True),axis=1)"
   ]
  },
  {
   "cell_type": "code",
   "execution_count": 8,
   "metadata": {},
   "outputs": [
    {
     "name": "stdout",
     "output_type": "stream",
     "text": [
      "Overall Accuracy Score: 0.8364732479276563\n",
      "Class-wise accuracy:\n",
      "[0.86511628 0.09534884 0.03953488]\n",
      "[0.14893617 0.76808511 0.08297872]\n",
      "[0.05152225 0.06557377 0.88290398]\n",
      "Macro Accuracy: 0.8373095892034647\n",
      "Confusion Matrix:\n"
     ]
    },
    {
     "data": {
      "text/plain": [
       "<sklearn.metrics._plot.confusion_matrix.ConfusionMatrixDisplay at 0x16d27a6d0>"
      ]
     },
     "execution_count": 8,
     "metadata": {},
     "output_type": "execute_result"
    },
    {
     "data": {
      "image/png": "[encoded data removed]",
      "text/plain": [
       "<Figure size 432x288 with 2 Axes>"
      ]
     },
     "metadata": {
      "needs_background": "light"
     },
     "output_type": "display_data"
    }
   ],
   "source": [
    "SVM_model = SVC(gamma='scale',C=1.0533, kernel='poly', degree=2,coef0=2.1,random_state=42)\n",
    "SVM_model.fit(X_train, y_train)\n",
    "SVM_prediction = SVM_model.predict(X_test)\n",
    "\n",
    "cm=confusion_matrix(y_test,SVM_prediction)\n",
    "score=precision_score(y_test,SVM_prediction, average='macro')\n",
    "acc = accuracy_score(y_test,SVM_prediction)\n",
    "\n",
    "\n",
    "print(f\"Overall Accuracy Score: {acc}\")\n",
    "print(\"Class-wise accuracy:\")\n",
    "for row in cm:\n",
    "    print(row/row.sum())\n",
    "print(f\"Macro Accuracy: {score}\")\n",
    "\n",
    "print(\"Confusion Matrix:\")\n",
    "# print(cm)\n",
    "ConfusionMatrixDisplay(confusion_matrix=cm,display_labels=['sing','scream','no vocal']).plot()\n"
   ]
  },
  {
   "cell_type": "code",
   "execution_count": null,
   "metadata": {},
   "outputs": [],
   "source": []
  }
 ],
 "metadata": {
  "interpreter": {
   "hash": "aee8b7b246df8f9039afb4144a1f6fd8d2ca17a180786b69acc140d282b71a49"
  },
  "kernelspec": {
   "display_name": "Python 3.9.7 64-bit",
   "language": "python",
   "name": "python3"
  },
  "language_info": {
   "codemirror_mode": {
    "name": "ipython",
    "version": 3
   },
   "file_extension": ".py",
   "mimetype": "text/x-python",
   "name": "python",
   "nbconvert_exporter": "python",
   "pygments_lexer": "ipython3",
   "version": "3.9.10"
  },
  "orig_nbformat": 4
 },
 "nbformat": 4,
 "nbformat_minor": 2
}
